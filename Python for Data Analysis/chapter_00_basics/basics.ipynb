{
 "cells": [
  {
   "cell_type": "markdown",
   "id": "immediate-sucking",
   "metadata": {},
   "source": [
    "# Data Analysis"
   ]
  },
  {
   "cell_type": "markdown",
   "id": "extended-queue",
   "metadata": {},
   "source": [
    "## Instalación\n",
    "- Instalar usando Conda o manualmente.\n",
    "- Crear un entorno virtual.\n",
    "- Instalar los paquetes escenciales: pandas, jupyter, matplotlib y numpy."
   ]
  },
  {
   "cell_type": "markdown",
   "id": "stunning-translation",
   "metadata": {},
   "source": [
    "### Conceptos básicos"
   ]
  },
  {
   "cell_type": "markdown",
   "id": "pretty-mississippi",
   "metadata": {},
   "source": [
    "### IPython\n",
    "Usar `?` después de una variable mostrara información general sobre el objeto.\n",
    "A esto se le conoce como instrospección de objetos, también puede ser usado en funciones y métodos de instancia."
   ]
  },
  {
   "cell_type": "code",
   "execution_count": 1,
   "id": "round-broadcast",
   "metadata": {},
   "outputs": [],
   "source": [
    "def add_number(a, b):\n",
    "    \"\"\"\n",
    "    Add two numbers together\n",
    "    \n",
    "    Return\n",
    "    ------\n",
    "    the sum: type of arguments\n",
    "    \"\"\"\n",
    "    return a + b"
   ]
  },
  {
   "cell_type": "code",
   "execution_count": 2,
   "id": "clean-hazard",
   "metadata": {},
   "outputs": [],
   "source": [
    "# usar ? con la función\n",
    "add_number?"
   ]
  },
  {
   "cell_type": "markdown",
   "id": "distinct-brisbane",
   "metadata": {},
   "source": [
    "Utilizar con los módulos para obtener una lista de las funciones disponibles:"
   ]
  },
  {
   "cell_type": "code",
   "execution_count": 3,
   "id": "beneficial-backing",
   "metadata": {},
   "outputs": [],
   "source": [
    "import numpy as np\n",
    "\n",
    "np.*load*?"
   ]
  },
  {
   "cell_type": "raw",
   "id": "muslim-equilibrium",
   "metadata": {},
   "source": [
    "# retorna\n",
    "np.__loader__\n",
    "np.load\n",
    "np.loadtxt"
   ]
  },
  {
   "cell_type": "markdown",
   "id": "developmental-income",
   "metadata": {},
   "source": [
    "### Python\n",
    "\n",
    "`isinstance()` permite pasar una tupla (además de su cualidades habituales)."
   ]
  },
  {
   "cell_type": "code",
   "execution_count": 4,
   "id": "graphic-handle",
   "metadata": {},
   "outputs": [
    {
     "data": {
      "text/plain": [
       "(True, True)"
      ]
     },
     "execution_count": 4,
     "metadata": {},
     "output_type": "execute_result"
    }
   ],
   "source": [
    "a = 5\n",
    "b = 5.4\n",
    "\n",
    "isinstance(a, (int, float)), isinstance(b, (int, float))"
   ]
  },
  {
   "cell_type": "markdown",
   "id": "extensive-affair",
   "metadata": {},
   "source": [
    "Verificar si un objeto es iterable: podría usar el médotod mágico `__iter__` o en su lugar\n",
    "la función `iter()`."
   ]
  },
  {
   "cell_type": "code",
   "execution_count": 5,
   "id": "sorted-caribbean",
   "metadata": {},
   "outputs": [
    {
     "data": {
      "text/plain": [
       "(True, True, False)"
      ]
     },
     "execution_count": 5,
     "metadata": {},
     "output_type": "execute_result"
    }
   ],
   "source": [
    "def isiterable(obj):\n",
    "    try:\n",
    "        iter(obj)\n",
    "        return True\n",
    "    except TypeError:\n",
    "        return False\n",
    "\n",
    "a = isiterable(\"a string\") # True\n",
    "b = isiterable([1,2,3,4]) # True\n",
    "c = isiterable(1) # False\n",
    "a, b, c"
   ]
  },
  {
   "cell_type": "markdown",
   "id": "natural-cancer",
   "metadata": {},
   "source": [
    "Importanción de módulos"
   ]
  },
  {
   "cell_type": "code",
   "execution_count": 6,
   "id": "equivalent-marine",
   "metadata": {},
   "outputs": [],
   "source": [
    "# some_module.py\n",
    "PI = 3.14159\n",
    "\n",
    "def f(x):\n",
    "    return x + 2\n",
    "\n",
    "\n",
    "def g(a, b):\n",
    "    return a + b"
   ]
  },
  {
   "cell_type": "markdown",
   "id": "planned-edgar",
   "metadata": {},
   "source": [
    "Acceder a las variables desde otro módulo."
   ]
  },
  {
   "cell_type": "code",
   "execution_count": 7,
   "id": "underlying-preference",
   "metadata": {},
   "outputs": [
    {
     "data": {
      "text/plain": [
       "7"
      ]
     },
     "execution_count": 7,
     "metadata": {},
     "output_type": "execute_result"
    }
   ],
   "source": [
    "import some_module\n",
    "\n",
    "result = some_module.f(5)\n",
    "pi = some_module.PI\n",
    "result"
   ]
  },
  {
   "cell_type": "code",
   "execution_count": 8,
   "id": "subtle-demand",
   "metadata": {},
   "outputs": [
    {
     "data": {
      "text/plain": [
       "8.14159"
      ]
     },
     "execution_count": 8,
     "metadata": {},
     "output_type": "execute_result"
    }
   ],
   "source": [
    "# o alternativamente\n",
    "from some_module import g, PI\n",
    "\n",
    "result = g(5, PI)\n",
    "result"
   ]
  },
  {
   "cell_type": "markdown",
   "id": "derived-single",
   "metadata": {},
   "source": [
    "`None` también es un valor predeterminado común para argumentos de función:"
   ]
  },
  {
   "cell_type": "code",
   "execution_count": 9,
   "id": "veterinary-presentation",
   "metadata": {},
   "outputs": [
    {
     "data": {
      "text/plain": [
       "(3, 9)"
      ]
     },
     "execution_count": 9,
     "metadata": {},
     "output_type": "execute_result"
    }
   ],
   "source": [
    "def add_and_maybe_multiplay(a, b, c=None):\n",
    "    result = a + b\n",
    "    \n",
    "    if c is not None:\n",
    "        result *= c # is same: result = result * c\n",
    "    return result\n",
    "\n",
    "ab = add_and_maybe_multiplay(1, 2)\n",
    "abc = add_and_maybe_multiplay(1, 2, 3)\n",
    "ab, abc"
   ]
  },
  {
   "cell_type": "markdown",
   "id": "african-counter",
   "metadata": {},
   "source": [
    "Fechas y horarios: `datetime` combina la información almacenada en `date` y `time`."
   ]
  },
  {
   "cell_type": "code",
   "execution_count": 10,
   "id": "continental-hundred",
   "metadata": {},
   "outputs": [
    {
     "name": "stdout",
     "output_type": "stream",
     "text": [
      "29\n",
      "30\n",
      "2011-10-29\n",
      "20:30:21\n"
     ]
    }
   ],
   "source": [
    "from datetime import datetime\n",
    "\n",
    "dt = datetime(2011, 10, 29, 20, 30, 21)\n",
    "print(dt.day)\n",
    "print(dt.minute)\n",
    "\n",
    "# extraer la fecha\n",
    "print(dt.date())\n",
    "\n",
    "# extraer el tiempo\n",
    "print(dt.time())"
   ]
  },
  {
   "cell_type": "markdown",
   "id": "apparent-disorder",
   "metadata": {},
   "source": [
    "Usar `strftime()`."
   ]
  },
  {
   "cell_type": "code",
   "execution_count": 11,
   "id": "broken-forty",
   "metadata": {},
   "outputs": [
    {
     "data": {
      "text/plain": [
       "'2011-10-29 20:10'"
      ]
     },
     "execution_count": 11,
     "metadata": {},
     "output_type": "execute_result"
    }
   ],
   "source": [
    "dt.strftime(\"%Y-%m-%d %H:%m\")"
   ]
  },
  {
   "cell_type": "markdown",
   "id": "fabulous-german",
   "metadata": {},
   "source": [
    "Convertir una cadena a un objeto `strptime`."
   ]
  },
  {
   "cell_type": "code",
   "execution_count": 12,
   "id": "prescription-relations",
   "metadata": {},
   "outputs": [
    {
     "data": {
      "text/plain": [
       "datetime.datetime(2009, 10, 31, 0, 0)"
      ]
     },
     "execution_count": 12,
     "metadata": {},
     "output_type": "execute_result"
    }
   ],
   "source": [
    "datetime.strptime(\"20091031\", \"%Y%m%d\")"
   ]
  },
  {
   "cell_type": "markdown",
   "id": "rational-biology",
   "metadata": {},
   "source": [
    "Es útil reemplazar los campos de minutos y segundos a ceros."
   ]
  },
  {
   "cell_type": "code",
   "execution_count": 13,
   "id": "pursuant-running",
   "metadata": {},
   "outputs": [
    {
     "data": {
      "text/plain": [
       "datetime.datetime(2011, 10, 29, 20, 0)"
      ]
     },
     "execution_count": 13,
     "metadata": {},
     "output_type": "execute_result"
    }
   ],
   "source": [
    "dt_hour = dt.replace(minute=0, second=0)\n",
    "dt_hour"
   ]
  },
  {
   "cell_type": "markdown",
   "id": "shaped-contact",
   "metadata": {},
   "source": [
    "`datetime` produce objetos inmutables."
   ]
  },
  {
   "cell_type": "code",
   "execution_count": 14,
   "id": "great-oxygen",
   "metadata": {},
   "outputs": [
    {
     "name": "stdout",
     "output_type": "stream",
     "text": [
      "0:00:00\n",
      "<class 'datetime.timedelta'>\n",
      "2011-10-29 20:30:21\n"
     ]
    }
   ],
   "source": [
    "dt2 = datetime(2011, 11, 15, 22, 30)\n",
    "delta = dt - dt\n",
    "print(delta)\n",
    "print(type(delta))\n",
    "dt + delta\n",
    "print(dt)"
   ]
  },
  {
   "cell_type": "code",
   "execution_count": 15,
   "id": "endangered-class",
   "metadata": {},
   "outputs": [
    {
     "data": {
      "text/plain": [
       "12"
      ]
     },
     "execution_count": 15,
     "metadata": {},
     "output_type": "execute_result"
    }
   ],
   "source": [
    "secuence = [1, 2, None, 4, None, 5]\n",
    "total = 0\n",
    "\n",
    "for value in secuence:\n",
    "    if value is None:\n",
    "        continue\n",
    "    total += value\n",
    "\n",
    "total"
   ]
  },
  {
   "cell_type": "code",
   "execution_count": 16,
   "id": "covered-airline",
   "metadata": {},
   "outputs": [
    {
     "data": {
      "text/plain": [
       "12"
      ]
     },
     "execution_count": 16,
     "metadata": {},
     "output_type": "execute_result"
    }
   ],
   "source": [
    "# alternativamente\n",
    "secuence = [1, 2, None, 4, None, 5]\n",
    "total = 0\n",
    "\n",
    "for value in secuence:\n",
    "    if value is not None:\n",
    "        total += value\n",
    "\n",
    "total"
   ]
  }
 ],
 "metadata": {
  "kernelspec": {
   "display_name": "Python 3 (ipykernel)",
   "language": "python",
   "name": "python3"
  },
  "language_info": {
   "codemirror_mode": {
    "name": "ipython",
    "version": 3
   },
   "file_extension": ".py",
   "mimetype": "text/x-python",
   "name": "python",
   "nbconvert_exporter": "python",
   "pygments_lexer": "ipython3",
   "version": "3.12.1"
  }
 },
 "nbformat": 4,
 "nbformat_minor": 5
}
