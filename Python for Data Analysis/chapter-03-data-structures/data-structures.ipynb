{
 "cells": [
  {
   "cell_type": "markdown",
   "id": "certain-breathing",
   "metadata": {},
   "source": [
    "## Chapter 3: Data Structures"
   ]
  },
  {
   "cell_type": "markdown",
   "id": "exempt-symbol",
   "metadata": {},
   "source": [
    "El operador `_` se utiliza para variables no deseadas."
   ]
  },
  {
   "cell_type": "markdown",
   "id": "acceptable-musical",
   "metadata": {},
   "source": [
    "Es preferible usar `extend()` al crear una nueva lista (o si es muy grande).\n",
    "\n",
    "Concatenación por adición."
   ]
  },
  {
   "cell_type": "code",
   "execution_count": 1,
   "id": "novel-invasion",
   "metadata": {},
   "outputs": [
    {
     "data": {
      "text/plain": [
       "[1, 2, 3, 4, 5, 6, 7, 8, 9]"
      ]
     },
     "execution_count": 1,
     "metadata": {},
     "output_type": "execute_result"
    }
   ],
   "source": [
    "list_of_lists = [[1, 2, 3], [4, 5, 6], [7, 8, 9]]\n",
    "everything = []\n",
    "\n",
    "for chunk in list_of_lists:\n",
    "    everything.extend(chunk)\n",
    "\n",
    "everything"
   ]
  },
  {
   "cell_type": "code",
   "execution_count": 2,
   "id": "laden-calcium",
   "metadata": {},
   "outputs": [
    {
     "data": {
      "text/plain": [
       "[1, 2, 3, 4, 5, 6, 7, 8, 9]"
      ]
     },
     "execution_count": 2,
     "metadata": {},
     "output_type": "execute_result"
    }
   ],
   "source": [
    "# la opción de arriba puede ser más rápida a esta\n",
    "# alternativa concatenativa\n",
    "list_of_lists = [[1, 2, 3], [4, 5, 6], [7, 8, 9]]\n",
    "everything = []\n",
    "\n",
    "for chunk in list_of_lists:\n",
    "    everything += chunk # puede ser más pythonico y más común\n",
    "\n",
    "everything"
   ]
  },
  {
   "cell_type": "markdown",
   "id": "sized-annotation",
   "metadata": {},
   "source": [
    "Clasificar una lista de palabras por su primera letra."
   ]
  },
  {
   "cell_type": "code",
   "execution_count": 3,
   "id": "loved-sphere",
   "metadata": {},
   "outputs": [
    {
     "data": {
      "text/plain": [
       "{'A': ['Apple', 'Atom'], 'B': ['Bat', 'Bar', 'Book']}"
      ]
     },
     "execution_count": 3,
     "metadata": {},
     "output_type": "execute_result"
    }
   ],
   "source": [
    "words = [\"Apple\", \"Bat\", \"Bar\", \"Atom\", \"Book\"]\n",
    "by_letter = {}\n",
    "\n",
    "for word in words:\n",
    "    letter = word[0]\n",
    "    if letter not in by_letter:\n",
    "        by_letter[letter] = [word] # creaa una clave y una lista con una palabra: w: [word]\n",
    "    else:\n",
    "        by_letter[letter].append(word) # hace un append de las demás palabras\n",
    "\n",
    "by_letter"
   ]
  },
  {
   "cell_type": "code",
   "execution_count": 4,
   "id": "violent-terrace",
   "metadata": {},
   "outputs": [
    {
     "data": {
      "text/plain": [
       "{'A': ['Apple', 'Atom'], 'B': ['Bat', 'Bar', 'Book']}"
      ]
     },
     "execution_count": 4,
     "metadata": {},
     "output_type": "execute_result"
    }
   ],
   "source": [
    "# se puede simplificar usando setdefault de dict\n",
    "words = [\"Apple\", \"Bat\", \"Bar\", \"Atom\", \"Book\"]\n",
    "by_letter = {}\n",
    "\n",
    "for word in words:\n",
    "    # letter = word[0]\n",
    "    by_letter.setdefault(word[0], []).append(word)\n",
    "\n",
    "by_letter"
   ]
  },
  {
   "cell_type": "code",
   "execution_count": 5,
   "id": "metropolitan-cleanup",
   "metadata": {},
   "outputs": [
    {
     "data": {
      "text/plain": [
       "defaultdict(list, {'A': ['Apple', 'Atom'], 'B': ['Bat', 'Bar', 'Book']})"
      ]
     },
     "execution_count": 5,
     "metadata": {},
     "output_type": "execute_result"
    }
   ],
   "source": [
    "# usando defaultdict de collections\n",
    "from collections import defaultdict\n",
    "\n",
    "by_letter = defaultdict(list)\n",
    "\n",
    "for word in words:\n",
    "    by_letter[word[0]].append(word)\n",
    "\n",
    "by_letter"
   ]
  },
  {
   "cell_type": "markdown",
   "id": "accessible-syntax",
   "metadata": {},
   "source": [
    "Pasar todas las palabras de la lista a mayúsculas."
   ]
  },
  {
   "cell_type": "code",
   "execution_count": 6,
   "id": "parliamentary-guarantee",
   "metadata": {},
   "outputs": [
    {
     "data": {
      "text/plain": [
       "['A', 'AS', 'BAT', 'CAR', 'DOVE', 'PYTHON']"
      ]
     },
     "execution_count": 6,
     "metadata": {},
     "output_type": "execute_result"
    }
   ],
   "source": [
    "strings = [\"a\", \"as\", \"bat\", \"car\", \"dove\", \"python\"]\n",
    "\n",
    "[x.upper() for x in strings]"
   ]
  },
  {
   "cell_type": "code",
   "execution_count": 7,
   "id": "statutory-execution",
   "metadata": {},
   "outputs": [
    {
     "data": {
      "text/plain": [
       "['BAT', 'CAR', 'DOVE', 'PYTHON']"
      ]
     },
     "execution_count": 7,
     "metadata": {},
     "output_type": "execute_result"
    }
   ],
   "source": [
    "# aplicar una condición a list comprehesion\n",
    "[x.upper() for x in strings if len(x) > 2]"
   ]
  },
  {
   "cell_type": "code",
   "execution_count": 8,
   "id": "blocked-student",
   "metadata": {},
   "outputs": [
    {
     "data": {
      "text/plain": [
       "{1, 2, 3, 4, 6}"
      ]
     },
     "execution_count": 8,
     "metadata": {},
     "output_type": "execute_result"
    }
   ],
   "source": [
    "# usar set para calcular el largo único de las palabras en strings\n",
    "unique_lenghts = {len(x) for x in strings}\n",
    "unique_lenghts"
   ]
  },
  {
   "cell_type": "code",
   "execution_count": 9,
   "id": "impaired-bottle",
   "metadata": {},
   "outputs": [
    {
     "data": {
      "text/plain": [
       "{1, 2, 3, 4, 6}"
      ]
     },
     "execution_count": 9,
     "metadata": {},
     "output_type": "execute_result"
    }
   ],
   "source": [
    "# proceso normal de la operación anterior\n",
    "uniques = set()\n",
    "\n",
    "for word in strings:\n",
    "    uniques.add(len(word))\n",
    "\n",
    "uniques"
   ]
  },
  {
   "cell_type": "code",
   "execution_count": 10,
   "id": "brave-interim",
   "metadata": {},
   "outputs": [
    {
     "data": {
      "text/plain": [
       "defaultdict(list,\n",
       "            {1: ['a'],\n",
       "             2: ['as'],\n",
       "             3: ['bat', 'car'],\n",
       "             4: ['dove'],\n",
       "             6: ['python']})"
      ]
     },
     "execution_count": 10,
     "metadata": {},
     "output_type": "execute_result"
    }
   ],
   "source": [
    "# la operación anterior usando defaultdict\n",
    "from collections import defaultdict\n",
    "\n",
    "uniques = defaultdict(list)\n",
    "\n",
    "for word in strings:\n",
    "    uniques[len(word)].append(word)\n",
    "\n",
    "uniques"
   ]
  },
  {
   "cell_type": "code",
   "execution_count": 11,
   "id": "american-statistics",
   "metadata": {},
   "outputs": [
    {
     "data": {
      "text/plain": [
       "defaultdict(list,\n",
       "            {1: ['a'],\n",
       "             2: ['as'],\n",
       "             3: ['bat', 'car'],\n",
       "             4: ['dove'],\n",
       "             6: ['python']})"
      ]
     },
     "execution_count": 11,
     "metadata": {},
     "output_type": "execute_result"
    }
   ],
   "source": [
    "# list comprehesion y defaultdict para realizar la operación anterior\n",
    "uniques = defaultdict(list)\n",
    "\n",
    "[uniques[len(word)].append(word) for word in strings]\n",
    "uniques"
   ]
  },
  {
   "cell_type": "code",
   "execution_count": 12,
   "id": "south-switzerland",
   "metadata": {},
   "outputs": [
    {
     "data": {
      "text/plain": [
       "{1, 2, 3, 4, 6}"
      ]
     },
     "execution_count": 12,
     "metadata": {},
     "output_type": "execute_result"
    }
   ],
   "source": [
    "# eso mismo se puede realizar con map()\n",
    "set(map(len, strings))"
   ]
  },
  {
   "cell_type": "markdown",
   "id": "prepared-concentrate",
   "metadata": {},
   "source": [
    "Usar `map()` junto a una función."
   ]
  },
  {
   "cell_type": "code",
   "execution_count": 13,
   "id": "tested-prime",
   "metadata": {},
   "outputs": [
    {
     "data": {
      "text/plain": [
       "[2, 4, 6, 8]"
      ]
     },
     "execution_count": 13,
     "metadata": {},
     "output_type": "execute_result"
    }
   ],
   "source": [
    "def mult(num):\n",
    "    return num * 2\n",
    "\n",
    "\n",
    "list(map(mult, [1, 2, 3, 4]))"
   ]
  },
  {
   "cell_type": "markdown",
   "id": "established-lobby",
   "metadata": {},
   "source": [
    "Crear un diccionario con la ubicación de las palabras en `strings`."
   ]
  },
  {
   "cell_type": "code",
   "execution_count": 14,
   "id": "involved-silence",
   "metadata": {},
   "outputs": [
    {
     "data": {
      "text/plain": [
       "{'a': 0, 'as': 1, 'bat': 2, 'car': 3, 'dove': 4, 'python': 5}"
      ]
     },
     "execution_count": 14,
     "metadata": {},
     "output_type": "execute_result"
    }
   ],
   "source": [
    "# el resultado es {\"letra\": ublicación de la palabra dentro de la lista}\n",
    "loc_mapping = {value: index for index, value in enumerate(strings)}\n",
    "loc_mapping"
   ]
  },
  {
   "cell_type": "markdown",
   "id": "prerequisite-royal",
   "metadata": {},
   "source": [
    "Palabras con más de una \"a\"."
   ]
  },
  {
   "cell_type": "code",
   "execution_count": 15,
   "id": "certified-jumping",
   "metadata": {},
   "outputs": [
    {
     "data": {
      "text/plain": [
       "['María', 'Natalia']"
      ]
     },
     "execution_count": 15,
     "metadata": {},
     "output_type": "execute_result"
    }
   ],
   "source": [
    "all_data = [[\"John\", \"Michael\", \"Mary\", \"Steven\", \"Emily\"],\n",
    "           [\"María\", \"Juan\", \"Javier\", \"Natalia\", \"Pilar\"]]\n",
    "names_of_interest = []\n",
    "\n",
    "for names in all_data:\n",
    "    enough_as = [name for name in names if name.count(\"a\") > 1]\n",
    "    # print(enough_as)\n",
    "    names_of_interest.extend(enough_as)\n",
    "\n",
    "names_of_interest"
   ]
  },
  {
   "cell_type": "code",
   "execution_count": 16,
   "id": "refined-modification",
   "metadata": {},
   "outputs": [
    {
     "data": {
      "text/plain": [
       "['María', 'Natalia']"
      ]
     },
     "execution_count": 16,
     "metadata": {},
     "output_type": "execute_result"
    }
   ],
   "source": [
    "# realizar la misma operación, pero usando list comprehesion\n",
    "result = [name for names in all_data for name in names if name.count(\"a\") > 1]\n",
    "result"
   ]
  },
  {
   "cell_type": "markdown",
   "id": "stylish-finish",
   "metadata": {},
   "source": [
    "Tuplas anidadas."
   ]
  },
  {
   "cell_type": "code",
   "execution_count": 17,
   "id": "protective-washer",
   "metadata": {},
   "outputs": [
    {
     "data": {
      "text/plain": [
       "[1, 2, 3, 4, 5, 6, 7, 8, 9]"
      ]
     },
     "execution_count": 17,
     "metadata": {},
     "output_type": "execute_result"
    }
   ],
   "source": [
    "some_tuples = [(1, 2, 3), (4, 5, 6), (7, 8, 9)]\n",
    "\n",
    "flattened = [x for tupe in some_tuples for x in tupe]\n",
    "flattened"
   ]
  },
  {
   "cell_type": "code",
   "execution_count": 18,
   "id": "checked-venice",
   "metadata": {},
   "outputs": [
    {
     "data": {
      "text/plain": [
       "[1, 2, 3, 4, 5, 6, 7, 8, 9]"
      ]
     },
     "execution_count": 18,
     "metadata": {},
     "output_type": "execute_result"
    }
   ],
   "source": [
    "# una list comprehesion anidada sería muy similar a un bucle\n",
    "flattened = []\n",
    "\n",
    "for tup in some_tuples:\n",
    "    for x in tup:\n",
    "        flattened.append(x)\n",
    "\n",
    "flattened"
   ]
  },
  {
   "cell_type": "markdown",
   "id": "figured-coffee",
   "metadata": {},
   "source": [
    "Crear una función de limpieza con `re`."
   ]
  },
  {
   "cell_type": "code",
   "execution_count": 19,
   "id": "medium-chicago",
   "metadata": {},
   "outputs": [
    {
     "data": {
      "text/plain": [
       "['Alabama', 'Georigia', 'Georgia', 'South Carolina', 'West Virginia']"
      ]
     },
     "execution_count": 19,
     "metadata": {},
     "output_type": "execute_result"
    }
   ],
   "source": [
    "import re\n",
    "\n",
    "states = [\"    Alabama\", \"Georigia!\", \"Georgia\", \"south carolina##\", \"West Virginia?\"]\n",
    "\n",
    "def clean_strings(strings):\n",
    "    result = []\n",
    "    for value in strings:\n",
    "        value = value.strip()\n",
    "        value = re.sub(\"[!#?]\", \"\", value)\n",
    "        value = value.title()\n",
    "        result.append(value)\n",
    "    return result\n",
    "\n",
    "clean_strings(states)"
   ]
  },
  {
   "cell_type": "code",
   "execution_count": 20,
   "id": "democratic-criticism",
   "metadata": {},
   "outputs": [
    {
     "data": {
      "text/plain": [
       "['Alabama', 'Georigia', 'Georgia', 'South Carolina', 'West Virginia']"
      ]
     },
     "execution_count": 20,
     "metadata": {},
     "output_type": "execute_result"
    }
   ],
   "source": [
    "# enoque altenativo\n",
    "def remove_punct(value):\n",
    "    return re.sub(\"[!#?]\", \"\", value)\n",
    "\n",
    "\n",
    "clean_ops = [str.strip, remove_punct, str.title]\n",
    "\n",
    "\n",
    "def clean_strings(strings, ops):\n",
    "    result = []\n",
    "    for value in strings: # recorre los elementos de la lista\n",
    "        for func in ops: # recorre cada opción de clean_ops\n",
    "            value = func(value) # ejecuta cada acción de clean_ops\n",
    "        result.append(value)\n",
    "    return result\n",
    "\n",
    "clean_strings(states, clean_ops)"
   ]
  },
  {
   "cell_type": "code",
   "execution_count": 21,
   "id": "modular-limitation",
   "metadata": {},
   "outputs": [
    {
     "name": "stdout",
     "output_type": "stream",
     "text": [
      "Alabama\n",
      "Georigia\n",
      "Georgia\n",
      "south carolina\n",
      "West Virginia\n"
     ]
    }
   ],
   "source": [
    "# usando map()\n",
    "for x in map(remove_punct, states):\n",
    "    print(x.strip())"
   ]
  },
  {
   "cell_type": "markdown",
   "id": "organized-slovak",
   "metadata": {},
   "source": [
    "`lambda` permite escribir funciones que consisten en una sola instrucción."
   ]
  },
  {
   "cell_type": "code",
   "execution_count": 22,
   "id": "fitted-darwin",
   "metadata": {},
   "outputs": [
    {
     "name": "stdout",
     "output_type": "stream",
     "text": [
      "10\n",
      "10\n"
     ]
    }
   ],
   "source": [
    "def short_function(x):\n",
    "    return x * 2\n",
    "\n",
    "equiv_anon = lambda x: x * 2\n",
    "\n",
    "print(short_function(5))\n",
    "print(equiv_anon(5))"
   ]
  },
  {
   "cell_type": "markdown",
   "id": "ordinary-associate",
   "metadata": {},
   "source": [
    "`lambda`: a menudo es menos tipificador (y más claro) pasar una función lambda en lugar\n",
    "de escribir una delcaración completa o incluso asignar la función `lambda` a una\n",
    "variable local."
   ]
  },
  {
   "cell_type": "code",
   "execution_count": 23,
   "id": "developed-projector",
   "metadata": {},
   "outputs": [
    {
     "data": {
      "text/plain": [
       "[8, 0, 2, 10, 12]"
      ]
     },
     "execution_count": 23,
     "metadata": {},
     "output_type": "execute_result"
    }
   ],
   "source": [
    "def apply_to_list(some_list, f):\n",
    "    return [f(x) for x in some_list]\n",
    "\n",
    "\n",
    "inst = [4, 0, 1, 5, 6]\n",
    "\n",
    "apply_to_list(inst, lambda x: x * 2)"
   ]
  },
  {
   "cell_type": "code",
   "execution_count": 24,
   "id": "younger-product",
   "metadata": {},
   "outputs": [
    {
     "data": {
      "text/plain": [
       "['aaa', 'foo', 'abab', 'bar', 'card']"
      ]
     },
     "execution_count": 24,
     "metadata": {},
     "output_type": "execute_result"
    }
   ],
   "source": [
    "# ordenar una colección de cadenas por el número de letras distintas en cada cadena\n",
    "strings = [\"foo\", \"card\", \"bar\", \"aaa\", \"abab\"]\n",
    "\n",
    "strings.sort(key=lambda x: len(set(x)))\n",
    "\n",
    "strings"
   ]
  },
  {
   "cell_type": "code",
   "execution_count": 25,
   "id": "artificial-budget",
   "metadata": {},
   "outputs": [
    {
     "name": "stdout",
     "output_type": "stream",
     "text": [
      "aaa 1\n",
      "foo 2\n",
      "abab 2\n",
      "bar 3\n",
      "card 4\n"
     ]
    }
   ],
   "source": [
    "# un bucle para tener un ejemplo visual de lo anterior\n",
    "for a in strings:\n",
    "    print(a, len(set(a)))"
   ]
  },
  {
   "cell_type": "markdown",
   "id": "arranged-dressing",
   "metadata": {},
   "source": [
    "### `itertools`\n",
    "`grouopby` toma cualquier secuencia y una función, agrupando elementos consecutivos en\n",
    "la secuencia por valor de retorno de la función."
   ]
  },
  {
   "cell_type": "code",
   "execution_count": 26,
   "id": "accompanied-cursor",
   "metadata": {},
   "outputs": [
    {
     "name": "stdout",
     "output_type": "stream",
     "text": [
      "A ['Adam', 'Alan', 'Albert']\n",
      "S ['Steven']\n",
      "W ['Wes', 'Will']\n"
     ]
    }
   ],
   "source": [
    "import itertools\n",
    "\n",
    "\n",
    "def first_letter(x):\n",
    "    return x[0]\n",
    "\n",
    "\n",
    "names = [\"Alan\", \"Adam\", \"Wes\", \"Will\", \"Albert\", \"Steven\"]\n",
    "\n",
    "for letter, names in itertools.groupby(sorted(names), first_letter):\n",
    "    print(letter, list(names))"
   ]
  },
  {
   "cell_type": "markdown",
   "id": "dried-archives",
   "metadata": {},
   "source": [
    "### Manejo de excepciones"
   ]
  },
  {
   "cell_type": "code",
   "execution_count": 27,
   "id": "aggressive-revision",
   "metadata": {},
   "outputs": [
    {
     "name": "stdout",
     "output_type": "stream",
     "text": [
      "-10.0\n",
      "no es float: Python\n"
     ]
    }
   ],
   "source": [
    "# manejar una excepción con float\n",
    "def attemp_float(x):\n",
    "    try:\n",
    "        return float(x) # intenta pasarlo a float\n",
    "    except:\n",
    "        return f\"no es float: {x}\" # si falla, retorna x\n",
    "\n",
    "print(attemp_float(-10))\n",
    "print(attemp_float(\"Python\"))"
   ]
  },
  {
   "cell_type": "code",
   "execution_count": 28,
   "id": "senior-invasion",
   "metadata": {},
   "outputs": [
    {
     "name": "stdout",
     "output_type": "stream",
     "text": [
      "10.0\n",
      "No es float: Debian\n"
     ]
    }
   ],
   "source": [
    "# manejar ValueError\n",
    "def attemp_float(x):\n",
    "    try:\n",
    "        return float(x)\n",
    "    except ValueError:\n",
    "        return f\"No es float: {x}\"\n",
    "    \n",
    "print(attemp_float(10))\n",
    "print(attemp_float(\"Debian\"))"
   ]
  },
  {
   "cell_type": "code",
   "execution_count": 29,
   "id": "respiratory-million",
   "metadata": {},
   "outputs": [
    {
     "name": "stdout",
     "output_type": "stream",
     "text": [
      "100.12\n",
      "No es float: Linux\n"
     ]
    }
   ],
   "source": [
    "# detectar múltiples excepciones con tuplas\n",
    "def attemp_float(x):\n",
    "    try:\n",
    "        return float(x)\n",
    "    except (TypeError, ValueError):\n",
    "        return f\"No es float: {x}\"\n",
    "    \n",
    "print(attemp_float(100.12))\n",
    "print(attemp_float(\"Linux\"))"
   ]
  },
  {
   "cell_type": "markdown",
   "id": "celtic-malpractice",
   "metadata": {},
   "source": [
    "Es posible suprimir la excepción, pero ejecutar código independientemente de si el\n",
    "código en `try` tiene éxito o no."
   ]
  },
  {
   "cell_type": "markdown",
   "id": "entire-tuning",
   "metadata": {},
   "source": [
    "```py\n",
    "f = open(path, mode=\"w\")\n",
    "\n",
    "try:\n",
    "    write_to_file(f)\n",
    "finally:\n",
    "    f.close() # el objetivo de esta línea es siempre cerrar el archivo\n",
    "```"
   ]
  },
  {
   "cell_type": "markdown",
   "id": "further-scope",
   "metadata": {},
   "source": [
    "Ejecutar un código solo si `try` tiene éxito."
   ]
  },
  {
   "cell_type": "markdown",
   "id": "amazing-terrorist",
   "metadata": {},
   "source": [
    "```py\n",
    "f = open(path, mode=\"w\")\n",
    "\n",
    "try:\n",
    "    write_to_file(f)\n",
    "except:\n",
    "    print(\"Failed\")\n",
    "else:\n",
    "    print(\"Suceeded\")\n",
    "finally:\n",
    "    f.close()\n",
    "```"
   ]
  },
  {
   "cell_type": "markdown",
   "id": "automotive-administrator",
   "metadata": {},
   "source": [
    "### Archivos y el sistema operativo"
   ]
  },
  {
   "cell_type": "code",
   "execution_count": 30,
   "id": "polar-communication",
   "metadata": {},
   "outputs": [
    {
     "name": "stdout",
     "output_type": "stream",
     "text": [
      "Sueña el rico en su riqueza,\n",
      "\n",
      "que más cuidados le ofrece;\n",
      "\n",
      "\n",
      "\n",
      "sueña el pobre que padece\n",
      "\n",
      "su miseria y su pobreza;\n",
      "\n",
      "\n",
      "\n",
      "sueña el que a medrar empieza,\n",
      "\n",
      "sueña el que afana y pretende,\n",
      "\n",
      "sueña el que agravia y ofende,\n",
      "\n",
      "\n",
      "\n",
      "y en el mundo, en conclusión,\n",
      "\n",
      "todos sueñan lo que son,\n",
      "\n",
      "aunque ninguno lo entiende.\n",
      "\n",
      "\n",
      "\n"
     ]
    }
   ],
   "source": [
    "path = r\"segismundo.txt\"\n",
    "# de forma predeterminada, el archivo se abre en modo lectura\n",
    "f = open(path, encoding=\"utf-8-sig\")\n",
    "\n",
    "for line in f:\n",
    "    print(line)"
   ]
  },
  {
   "cell_type": "code",
   "execution_count": 31,
   "id": "adjusted-example",
   "metadata": {},
   "outputs": [
    {
     "data": {
      "text/plain": [
       "['Sueña el rico en su riqueza,',\n",
       " 'que más cuidados le ofrece;',\n",
       " 'sueña el pobre que padece',\n",
       " 'su miseria y su pobreza;',\n",
       " 'sueña el que a medrar empieza,',\n",
       " 'sueña el que afana y pretende,',\n",
       " 'sueña el que agravia y ofende,',\n",
       " 'y en el mundo, en conclusión,',\n",
       " 'todos sueñan lo que son,',\n",
       " 'aunque ninguno lo entiende.']"
      ]
     },
     "execution_count": 31,
     "metadata": {},
     "output_type": "execute_result"
    }
   ],
   "source": [
    "# el archivo sale con los marcadores de fin de línea EOL\n",
    "lines = [x.strip() for x in open(path, encoding=\"utf-8-sig\") if len(x) > 2]\n",
    "lines # lo imprime sin espacio y sin líneas vacías"
   ]
  },
  {
   "cell_type": "code",
   "execution_count": 32,
   "id": "discrete-treasurer",
   "metadata": {},
   "outputs": [],
   "source": [
    "# escribir un archivo sin líneas en blanco\n",
    "with open(\"tmp.txt\", \"w\") as handle:\n",
    "    handle.writelines([x for x in open(path) if len(x) > 1])"
   ]
  },
  {
   "cell_type": "code",
   "execution_count": 33,
   "id": "induced-relations",
   "metadata": {},
   "outputs": [
    {
     "data": {
      "text/plain": [
       "['Sueña el rico en su riqueza,',\n",
       " 'que más cuidados le ofrece;',\n",
       " 'sueña el pobre que padece',\n",
       " 'su miseria y su pobreza;',\n",
       " 'sueña el que a medrar empieza,',\n",
       " 'sueña el que afana y pretende,',\n",
       " 'sueña el que agravia y ofende,',\n",
       " 'y en el mundo, en conclusión,',\n",
       " 'todos sueñan lo que son,',\n",
       " 'aunque ninguno lo entiende.']"
      ]
     },
     "execution_count": 33,
     "metadata": {},
     "output_type": "execute_result"
    }
   ],
   "source": [
    "# acceder al nuevo archivo generado\n",
    "with open(\"tmp.txt\", encoding=\"utf-8-sig\") as f:\n",
    "    lineas = f.readline()\n",
    "\n",
    "lines"
   ]
  },
  {
   "cell_type": "markdown",
   "id": "moving-tablet",
   "metadata": {},
   "source": [
    "`write` escribe línea por línea sin añadir el salto de línea, mientras que `writelines`\n",
    "escribe una lista de cadenas."
   ]
  }
 ],
 "metadata": {
  "kernelspec": {
   "display_name": "venv",
   "language": "python",
   "name": "venv"
  },
  "language_info": {
   "codemirror_mode": {
    "name": "ipython",
    "version": 3
   },
   "file_extension": ".py",
   "mimetype": "text/x-python",
   "name": "python",
   "nbconvert_exporter": "python",
   "pygments_lexer": "ipython3",
   "version": "3.9.2"
  }
 },
 "nbformat": 4,
 "nbformat_minor": 5
}
