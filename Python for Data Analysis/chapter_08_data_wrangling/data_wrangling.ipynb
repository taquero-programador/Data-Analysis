{
 "cells": [
  {
   "cell_type": "markdown",
   "id": "8de507da-780d-46a6-b4e3-d41b93410350",
   "metadata": {},
   "source": [
    "## Chapter 8: transformación de datos, unir, combinar y reformar"
   ]
  }
 ],
 "metadata": {
  "kernelspec": {
   "display_name": "venv",
   "language": "python",
   "name": "venv"
  },
  "language_info": {
   "codemirror_mode": {
    "name": "ipython",
    "version": 3
   },
   "file_extension": ".py",
   "mimetype": "text/x-python",
   "name": "python",
   "nbconvert_exporter": "python",
   "pygments_lexer": "ipython3",
   "version": "3.9.2"
  }
 },
 "nbformat": 4,
 "nbformat_minor": 5
}
