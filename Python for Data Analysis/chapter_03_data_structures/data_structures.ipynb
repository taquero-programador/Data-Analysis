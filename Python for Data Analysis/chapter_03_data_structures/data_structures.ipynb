{
 "cells": [
  {
   "cell_type": "markdown",
   "id": "certain-breathing",
   "metadata": {
    "panel-layout": {
     "height": 50.796875,
     "visible": true,
     "width": 100
    }
   },
   "source": [
    "## Chapter 3: Data Structures"
   ]
  },
  {
   "cell_type": "markdown",
   "id": "exempt-symbol",
   "metadata": {
    "panel-layout": {
     "height": 51.140625,
     "visible": true,
     "width": 100
    }
   },
   "source": [
    "El operador `_` se utiliza para variables no deseadas."
   ]
  },
  {
   "cell_type": "markdown",
   "id": "acceptable-musical",
   "metadata": {
    "panel-layout": {
     "height": 80.28125,
     "visible": true,
     "width": 100
    }
   },
   "source": [
    "Es preferible usar `extend()` al crear una nueva lista (o si es muy grande).\n",
    "\n",
    "Concatenación por adición."
   ]
  },
  {
   "cell_type": "code",
   "execution_count": 1,
   "id": "novel-invasion",
   "metadata": {
    "panel-layout": {
     "height": 203.640625,
     "visible": true,
     "width": 100
    }
   },
   "outputs": [
    {
     "data": {
      "text/plain": [
       "[1, 2, 3, 4, 5, 6, 7, 8, 9]"
      ]
     },
     "execution_count": 1,
     "metadata": {},
     "output_type": "execute_result"
    }
   ],
   "source": [
    "list_of_lists = [[1, 2, 3], [4, 5, 6], [7, 8, 9]]\n",
    "everything = []\n",
    "\n",
    "for chunk in list_of_lists:\n",
    "    everything.extend(chunk)\n",
    "\n",
    "everything # ya no es una lista de listas"
   ]
  },
  {
   "cell_type": "code",
   "execution_count": 2,
   "id": "laden-calcium",
   "metadata": {
    "panel-layout": {
     "height": 203.64059448242188,
     "visible": true,
     "width": 100
    }
   },
   "outputs": [
    {
     "data": {
      "text/plain": [
       "[1, 2, 3, 4, 5, 6, 7, 8, 9]"
      ]
     },
     "execution_count": 2,
     "metadata": {},
     "output_type": "execute_result"
    }
   ],
   "source": [
    "# la opción de arriba puede ser más rápida a esta\n",
    "# alternativa concatenativa\n",
    "list_of_lists = [[1, 2, 3], [4, 5, 6], [7, 8, 9]]\n",
    "everything = []\n",
    "\n",
    "for chunk in list_of_lists:\n",
    "    everything += chunk # puede ser más pythonico y más común\n",
    "\n",
    "everything"
   ]
  },
  {
   "cell_type": "markdown",
   "id": "sized-annotation",
   "metadata": {
    "panel-layout": {
     "height": 51.140625,
     "visible": true,
     "width": 100
    }
   },
   "source": [
    "Clasificar una lista de palabras por su primera letra."
   ]
  },
  {
   "cell_type": "code",
   "execution_count": 3,
   "id": "loved-sphere",
   "metadata": {
    "panel-layout": {
     "height": 88.125,
     "visible": true,
     "width": 100
    }
   },
   "outputs": [
    {
     "data": {
      "text/plain": [
       "{'A': ['Apple', 'Atom'], 'B': ['Bat', 'Bar', 'Book']}"
      ]
     },
     "execution_count": 3,
     "metadata": {},
     "output_type": "execute_result"
    }
   ],
   "source": [
    "words = [\"Apple\", \"Bat\", \"Bar\", \"Atom\", \"Book\"]\n",
    "by_letter = {}\n",
    "\n",
    "for word in words:\n",
    "    letter = word[0]\n",
    "    if letter not in by_letter:\n",
    "        by_letter[letter] = [word] # crea una clave y una lista con una palabra: w: [word]\n",
    "    else:\n",
    "        by_letter[letter].append(word) # hace un append de las demás palabras\n",
    "\n",
    "by_letter"
   ]
  },
  {
   "cell_type": "code",
   "execution_count": 4,
   "id": "violent-terrace",
   "metadata": {
    "panel-layout": {
     "height": 88.125,
     "visible": true,
     "width": 100
    }
   },
   "outputs": [
    {
     "data": {
      "text/plain": [
       "{'A': ['Apple', 'Atom'], 'B': ['Bat', 'Bar', 'Book']}"
      ]
     },
     "execution_count": 4,
     "metadata": {},
     "output_type": "execute_result"
    }
   ],
   "source": [
    "# se puede simplificar usando setdefault de dict\n",
    "words = [\"Apple\", \"Bat\", \"Bar\", \"Atom\", \"Book\"]\n",
    "by_letter = {}\n",
    "\n",
    "for word in words:\n",
    "    # letter = word[0]\n",
    "    by_letter.setdefault(word[0], []).append(word)\n",
    "\n",
    "by_letter"
   ]
  },
  {
   "cell_type": "code",
   "execution_count": 5,
   "id": "metropolitan-cleanup",
   "metadata": {
    "panel-layout": {
     "height": 88.125,
     "visible": true,
     "width": 100
    }
   },
   "outputs": [
    {
     "data": {
      "text/plain": [
       "defaultdict(list, {'A': ['Apple', 'Atom'], 'B': ['Bat', 'Bar', 'Book']})"
      ]
     },
     "execution_count": 5,
     "metadata": {},
     "output_type": "execute_result"
    }
   ],
   "source": [
    "# usando defaultdict de collections\n",
    "from collections import defaultdict\n",
    "\n",
    "by_letter = defaultdict(list)\n",
    "\n",
    "for word in words:\n",
    "    by_letter[word[0]].append(word)\n",
    "\n",
    "by_letter"
   ]
  },
  {
   "cell_type": "markdown",
   "id": "accessible-syntax",
   "metadata": {
    "panel-layout": {
     "height": 51.140625,
     "visible": true,
     "width": 100
    }
   },
   "source": [
    "Pasar todas las palabras de la lista a mayúsculas."
   ]
  },
  {
   "cell_type": "code",
   "execution_count": 6,
   "id": "parliamentary-guarantee",
   "metadata": {
    "panel-layout": {
     "height": 152.21881103515625,
     "visible": true,
     "width": 100
    }
   },
   "outputs": [
    {
     "data": {
      "text/plain": [
       "['A', 'AS', 'BAT', 'CAR', 'DOVE', 'PYTHON']"
      ]
     },
     "execution_count": 6,
     "metadata": {},
     "output_type": "execute_result"
    }
   ],
   "source": [
    "strings = [\"a\", \"as\", \"bat\", \"car\", \"dove\", \"python\"]\n",
    "\n",
    "[x.upper() for x in strings]"
   ]
  },
  {
   "cell_type": "code",
   "execution_count": 7,
   "id": "statutory-execution",
   "metadata": {
    "panel-layout": {
     "height": 117.9375,
     "visible": true,
     "width": 100
    }
   },
   "outputs": [
    {
     "data": {
      "text/plain": [
       "['BAT', 'CAR', 'DOVE', 'PYTHON']"
      ]
     },
     "execution_count": 7,
     "metadata": {},
     "output_type": "execute_result"
    }
   ],
   "source": [
    "# aplicar una condición a list comprehesion\n",
    "[x.upper() for x in strings if len(x) > 2]"
   ]
  },
  {
   "cell_type": "code",
   "execution_count": 8,
   "id": "blocked-student",
   "metadata": {
    "panel-layout": {
     "height": 27.140625,
     "visible": true,
     "width": 100
    }
   },
   "outputs": [
    {
     "data": {
      "text/plain": [
       "{1, 2, 3, 4, 6}"
      ]
     },
     "execution_count": 8,
     "metadata": {},
     "output_type": "execute_result"
    }
   ],
   "source": [
    "# usar set para calcular el largo único de las palabras en strings\n",
    "unique_lenghts = {len(x) for x in strings}\n",
    "unique_lenghts"
   ]
  },
  {
   "cell_type": "code",
   "execution_count": 9,
   "id": "impaired-bottle",
   "metadata": {
    "panel-layout": {
     "height": 27.140625,
     "visible": true,
     "width": 100
    }
   },
   "outputs": [
    {
     "data": {
      "text/plain": [
       "{1, 2, 3, 4, 6}"
      ]
     },
     "execution_count": 9,
     "metadata": {},
     "output_type": "execute_result"
    }
   ],
   "source": [
    "# proceso normal de la operación anterior\n",
    "uniques = set()\n",
    "\n",
    "for word in strings:\n",
    "    uniques.add(len(word))\n",
    "\n",
    "uniques"
   ]
  },
  {
   "cell_type": "code",
   "execution_count": 10,
   "id": "brave-interim",
   "metadata": {
    "panel-layout": {
     "height": 146.25,
     "visible": true,
     "width": 100
    }
   },
   "outputs": [
    {
     "data": {
      "text/plain": [
       "defaultdict(list,\n",
       "            {1: ['a'],\n",
       "             2: ['as'],\n",
       "             3: ['bat', 'car'],\n",
       "             4: ['dove'],\n",
       "             6: ['python']})"
      ]
     },
     "execution_count": 10,
     "metadata": {},
     "output_type": "execute_result"
    }
   ],
   "source": [
    "# la operación anterior usando defaultdict\n",
    "from collections import defaultdict\n",
    "\n",
    "uniques = defaultdict(list)\n",
    "\n",
    "for word in strings:\n",
    "    uniques[len(word)].append(word)\n",
    "\n",
    "uniques"
   ]
  },
  {
   "cell_type": "code",
   "execution_count": 11,
   "id": "american-statistics",
   "metadata": {
    "panel-layout": {
     "height": 146.25,
     "visible": true,
     "width": 100
    }
   },
   "outputs": [
    {
     "data": {
      "text/plain": [
       "defaultdict(list,\n",
       "            {1: ['a'],\n",
       "             2: ['as'],\n",
       "             3: ['bat', 'car'],\n",
       "             4: ['dove'],\n",
       "             6: ['python']})"
      ]
     },
     "execution_count": 11,
     "metadata": {},
     "output_type": "execute_result"
    }
   ],
   "source": [
    "# list comprehesion y defaultdict para realizar la operación anterior\n",
    "uniques = defaultdict(list)\n",
    "\n",
    "[uniques[len(word)].append(word) for word in strings]\n",
    "uniques"
   ]
  },
  {
   "cell_type": "code",
   "execution_count": 12,
   "id": "south-switzerland",
   "metadata": {
    "panel-layout": {
     "height": 27.140625,
     "visible": true,
     "width": 100
    }
   },
   "outputs": [
    {
     "data": {
      "text/plain": [
       "{1, 2, 3, 4, 6}"
      ]
     },
     "execution_count": 12,
     "metadata": {},
     "output_type": "execute_result"
    }
   ],
   "source": [
    "# eso mismo se puede realizar con map()\n",
    "set(map(len, strings))"
   ]
  },
  {
   "cell_type": "markdown",
   "id": "prepared-concentrate",
   "metadata": {
    "panel-layout": {
     "height": 51.140625,
     "visible": true,
     "width": 100
    }
   },
   "source": [
    "Usar `map()` junto a una función."
   ]
  },
  {
   "cell_type": "code",
   "execution_count": 13,
   "id": "tested-prime",
   "metadata": {
    "panel-layout": {
     "height": 117.9375,
     "visible": true,
     "width": 100
    }
   },
   "outputs": [
    {
     "data": {
      "text/plain": [
       "[2, 4, 6, 8]"
      ]
     },
     "execution_count": 13,
     "metadata": {},
     "output_type": "execute_result"
    }
   ],
   "source": [
    "def mult(num):\n",
    "    return num * 2\n",
    "\n",
    "\n",
    "list(map(mult, [1, 2, 3, 4]))"
   ]
  },
  {
   "cell_type": "markdown",
   "id": "established-lobby",
   "metadata": {
    "panel-layout": {
     "height": 51.140625,
     "visible": true,
     "width": 100
    }
   },
   "source": [
    "Crear un diccionario con la ubicación de las palabras en `strings`."
   ]
  },
  {
   "cell_type": "code",
   "execution_count": 14,
   "id": "involved-silence",
   "metadata": {
    "panel-layout": {
     "height": 152.21875,
     "visible": true,
     "width": 100
    }
   },
   "outputs": [
    {
     "data": {
      "text/plain": [
       "{'a': 0, 'as': 1, 'bat': 2, 'car': 3, 'dove': 4, 'python': 5}"
      ]
     },
     "execution_count": 14,
     "metadata": {},
     "output_type": "execute_result"
    }
   ],
   "source": [
    "# el resultado es {\"letra\": ublicación de la palabra dentro de la lista}\n",
    "loc_mapping = {value: index for index, value in enumerate(strings)}\n",
    "loc_mapping"
   ]
  },
  {
   "cell_type": "markdown",
   "id": "prerequisite-royal",
   "metadata": {
    "panel-layout": {
     "height": 51.140625,
     "visible": true,
     "width": 100
    }
   },
   "source": [
    "Palabras con más de una \"a\"."
   ]
  },
  {
   "cell_type": "code",
   "execution_count": 15,
   "id": "certified-jumping",
   "metadata": {
    "panel-layout": {
     "height": 83.65625,
     "visible": true,
     "width": 100
    }
   },
   "outputs": [
    {
     "data": {
      "text/plain": [
       "['María', 'Natalia']"
      ]
     },
     "execution_count": 15,
     "metadata": {},
     "output_type": "execute_result"
    }
   ],
   "source": [
    "all_data = [[\"John\", \"Michael\", \"Mary\", \"Steven\", \"Emily\"],\n",
    "           [\"María\", \"Juan\", \"Javier\", \"Natalia\", \"Pilar\"]]\n",
    "names_of_interest = []\n",
    "\n",
    "for names in all_data:\n",
    "    enough_as = [name for name in names if name.count(\"a\") > 1]\n",
    "    # print(enough_as)\n",
    "    names_of_interest.extend(enough_as)\n",
    "\n",
    "names_of_interest"
   ]
  },
  {
   "cell_type": "code",
   "execution_count": 16,
   "id": "refined-modification",
   "metadata": {
    "panel-layout": {
     "height": 83.65625,
     "visible": true,
     "width": 100
    }
   },
   "outputs": [
    {
     "data": {
      "text/plain": [
       "['María', 'Natalia']"
      ]
     },
     "execution_count": 16,
     "metadata": {},
     "output_type": "execute_result"
    }
   ],
   "source": [
    "# realizar la misma operación, pero usando list comprehesion\n",
    "result = [name for names in all_data for name in names if name.count(\"a\") > 1]\n",
    "result"
   ]
  },
  {
   "cell_type": "markdown",
   "id": "stylish-finish",
   "metadata": {
    "panel-layout": {
     "height": 51.140625,
     "visible": true,
     "width": 100
    }
   },
   "source": [
    "Tuplas anidadas."
   ]
  },
  {
   "cell_type": "code",
   "execution_count": 17,
   "id": "protective-washer",
   "metadata": {
    "panel-layout": {
     "height": 203.640625,
     "visible": true,
     "width": 100
    }
   },
   "outputs": [
    {
     "data": {
      "text/plain": [
       "[1, 2, 3, 4, 5, 6, 7, 8, 9]"
      ]
     },
     "execution_count": 17,
     "metadata": {},
     "output_type": "execute_result"
    }
   ],
   "source": [
    "some_tuples = [(1, 2, 3), (4, 5, 6), (7, 8, 9)]\n",
    "\n",
    "flattened = [x for tupe in some_tuples for x in tupe]\n",
    "flattened"
   ]
  },
  {
   "cell_type": "code",
   "execution_count": 18,
   "id": "checked-venice",
   "metadata": {
    "panel-layout": {
     "height": 203.640625,
     "visible": true,
     "width": 100
    }
   },
   "outputs": [
    {
     "data": {
      "text/plain": [
       "[1, 2, 3, 4, 5, 6, 7, 8, 9]"
      ]
     },
     "execution_count": 18,
     "metadata": {},
     "output_type": "execute_result"
    }
   ],
   "source": [
    "# una list comprehesion anidada sería muy similar a un bucle\n",
    "flattened = []\n",
    "\n",
    "for tup in some_tuples:\n",
    "    for x in tup:\n",
    "        flattened.append(x)\n",
    "\n",
    "flattened"
   ]
  },
  {
   "cell_type": "markdown",
   "id": "figured-coffee",
   "metadata": {
    "panel-layout": {
     "height": 51.140625,
     "visible": true,
     "width": 100
    }
   },
   "source": [
    "Crear una función de limpieza con `re`."
   ]
  },
  {
   "cell_type": "code",
   "execution_count": 19,
   "id": "medium-chicago",
   "metadata": {
    "panel-layout": {
     "height": 135.078125,
     "visible": true,
     "width": 100
    }
   },
   "outputs": [
    {
     "data": {
      "text/plain": [
       "['Alabama', 'Georigia', 'Georgia', 'South Carolina', 'West Virginia']"
      ]
     },
     "execution_count": 19,
     "metadata": {},
     "output_type": "execute_result"
    }
   ],
   "source": [
    "import re\n",
    "\n",
    "states = [\"    Alabama\", \"Georigia!\", \"Georgia\", \"south carolina##\", \"West Virginia?\"]\n",
    "\n",
    "def clean_strings(strings):\n",
    "    result = []\n",
    "    for value in strings:\n",
    "        value = value.strip()\n",
    "        value = re.sub(\"[!#?]\", \"\", value)\n",
    "        value = value.title()\n",
    "        result.append(value)\n",
    "    return result\n",
    "\n",
    "clean_strings(states)"
   ]
  },
  {
   "cell_type": "code",
   "execution_count": 20,
   "id": "democratic-criticism",
   "metadata": {
    "panel-layout": {
     "height": 135.078125,
     "visible": true,
     "width": 100
    }
   },
   "outputs": [
    {
     "data": {
      "text/plain": [
       "['Alabama', 'Georigia', 'Georgia', 'South Carolina', 'West Virginia']"
      ]
     },
     "execution_count": 20,
     "metadata": {},
     "output_type": "execute_result"
    }
   ],
   "source": [
    "# enfoque altenativo\n",
    "def remove_punct(value):\n",
    "    return re.sub(\"[!#?]\", \"\", value)\n",
    "\n",
    "\n",
    "clean_ops = [str.strip, remove_punct, str.title]\n",
    "\n",
    "\n",
    "def clean_strings(strings, ops):\n",
    "    result = []\n",
    "    for value in strings: # recorre los elementos de la lista\n",
    "        for func in ops: # recorre cada opción de clean_ops\n",
    "            value = func(value) # ejecuta cada acción de clean_ops\n",
    "        result.append(value)\n",
    "    return result\n",
    "\n",
    "clean_strings(states, clean_ops)"
   ]
  },
  {
   "cell_type": "code",
   "execution_count": 21,
   "id": "modular-limitation",
   "metadata": {},
   "outputs": [
    {
     "name": "stdout",
     "output_type": "stream",
     "text": [
      "Alabama\n",
      "Georigia\n",
      "Georgia\n",
      "south carolina\n",
      "West Virginia\n"
     ]
    }
   ],
   "source": [
    "# usando map()\n",
    "for x in map(remove_punct, states):\n",
    "    print(x.strip())"
   ]
  },
  {
   "cell_type": "markdown",
   "id": "organized-slovak",
   "metadata": {
    "panel-layout": {
     "height": 51.140625,
     "visible": true,
     "width": 100
    }
   },
   "source": [
    "`lambda` permite escribir funciones que consisten en una sola instrucción."
   ]
  },
  {
   "cell_type": "markdown",
   "id": "66e181b3-a9c9-4576-ba74-935f0053c38f",
   "metadata": {
    "panel-layout": {
     "height": 127.6875,
     "visible": true,
     "width": 100
    }
   },
   "source": [
    "```py\n",
    "(lambda x: x + 1) = lambda 2: 2 + 1\n",
    "                  = 2 + 1\n",
    "                  = 3\n",
    "```"
   ]
  },
  {
   "cell_type": "markdown",
   "id": "0801c706-8674-40ac-85d6-53916bcf46ad",
   "metadata": {},
   "source": [
    "Examples:"
   ]
  },
  {
   "cell_type": "code",
   "execution_count": 22,
   "id": "7d33ecee-c5b3-47c3-9e80-5eaf38d15c0e",
   "metadata": {},
   "outputs": [
    {
     "data": {
      "text/plain": [
       "4"
      ]
     },
     "execution_count": 22,
     "metadata": {},
     "output_type": "execute_result"
    }
   ],
   "source": [
    "(lambda x: x + 1)(3)"
   ]
  },
  {
   "cell_type": "markdown",
   "id": "3b164a19-842f-4942-9718-bbd08e2d8437",
   "metadata": {},
   "source": [
    "```py\n",
    "lambda x, y: x * y\n",
    "_(5,2)\n",
    "```"
   ]
  },
  {
   "cell_type": "code",
   "execution_count": 23,
   "id": "e209cea6-9b16-441f-9581-c7b38f71fa3d",
   "metadata": {},
   "outputs": [
    {
     "data": {
      "text/plain": [
       "'Full name: John Doe'"
      ]
     },
     "execution_count": 23,
     "metadata": {},
     "output_type": "execute_result"
    }
   ],
   "source": [
    "full_name = lambda first, last: f'Full name: {first.title()} {last.title()}'\n",
    "full_name('john', 'doe')"
   ]
  },
  {
   "cell_type": "code",
   "execution_count": 24,
   "id": "77f2d78a-389e-4a2a-8e42-b9d792eb710a",
   "metadata": {},
   "outputs": [
    {
     "data": {
      "text/plain": [
       "6"
      ]
     },
     "execution_count": 24,
     "metadata": {},
     "output_type": "execute_result"
    }
   ],
   "source": [
    "# high order function\n",
    "\n",
    "high_ord_func = lambda x, func: x + func(x)\n",
    "high_ord_func(2, lambda x: x * x) # 2 * 2 = 4 + 2 = 6"
   ]
  },
  {
   "cell_type": "markdown",
   "id": "761b8e3c-62eb-4dde-a35a-b378e8bf1240",
   "metadata": {},
   "source": [
    "Se puede importart `dis` obtener un seguimiento de la expresiones `lambda`:"
   ]
  },
  {
   "cell_type": "code",
   "execution_count": 25,
   "id": "2f0f1651-9ef4-4e9c-938e-d10eb9070a4a",
   "metadata": {},
   "outputs": [
    {
     "name": "stdout",
     "output_type": "stream",
     "text": [
      "  3           RESUME                   0\n",
      "              RETURN_CONST             1 ('Full name: {first.title()} {last.title()}')\n"
     ]
    }
   ],
   "source": [
    "import dis\n",
    "\n",
    "full_name = lambda first, last: 'Full name: {first.title()} {last.title()}'\n",
    "full_name('john', 'doe')\n",
    "dis.dis(full_name)"
   ]
  },
  {
   "cell_type": "code",
   "execution_count": 26,
   "id": "2cfd1606-2e45-4171-a736-597f327d6446",
   "metadata": {},
   "outputs": [
    {
     "data": {
      "text/plain": [
       "'odd'"
      ]
     },
     "execution_count": 26,
     "metadata": {},
     "output_type": "execute_result"
    }
   ],
   "source": [
    "(lambda x:\n",
    "x % 2 and 'odd' or 'even')(3)"
   ]
  },
  {
   "cell_type": "code",
   "execution_count": 27,
   "id": "a0cb0ce0-88c6-4a36-ae65-58c82d97df24",
   "metadata": {},
   "outputs": [
    {
     "data": {
      "text/plain": [
       "(6, 6, 6, 6, 6, 6)"
      ]
     },
     "execution_count": 27,
     "metadata": {},
     "output_type": "execute_result"
    }
   ],
   "source": [
    "a = lambda x, y, z: x + y + z\n",
    "b = lambda x, y, z=3: x + y + z\n",
    "c = lambda x, y, z=3: x + y + z\n",
    "d = lambda *args: sum(args)\n",
    "e = lambda **kwargs: sum(kwargs.values())\n",
    "f = lambda x, *, y=0, z=0: x + y + z\n",
    "a(1,2,3), b(1, 2), c(1, y=2), d(1,2,3), e(ne=1, two=2, three=3), f(1, y=2, z=3)"
   ]
  },
  {
   "cell_type": "code",
   "execution_count": 28,
   "id": "fitted-darwin",
   "metadata": {
    "panel-layout": {
     "height": 0,
     "visible": true,
     "width": 100
    }
   },
   "outputs": [
    {
     "name": "stdout",
     "output_type": "stream",
     "text": [
      "10\n",
      "10\n"
     ]
    }
   ],
   "source": [
    "def short_function(x):\n",
    "    return x * 2\n",
    "\n",
    "equiv_anon = lambda x: x * 2\n",
    "\n",
    "print(short_function(5))\n",
    "print(equiv_anon(5))"
   ]
  },
  {
   "cell_type": "markdown",
   "id": "ordinary-associate",
   "metadata": {
    "panel-layout": {
     "height": 85.421875,
     "visible": true,
     "width": 100
    }
   },
   "source": [
    "`lambda`: a menudo es menos tipificador (y más claro) pasar una función lambda en lugar\n",
    "de escribir una declaración completa o incluso asignar la función `lambda` a una\n",
    "variable local."
   ]
  },
  {
   "cell_type": "code",
   "execution_count": 29,
   "id": "developed-projector",
   "metadata": {
    "panel-layout": {
     "height": 135.078125,
     "visible": true,
     "width": 100
    }
   },
   "outputs": [
    {
     "data": {
      "text/plain": [
       "[8, 0, 2, 10, 12]"
      ]
     },
     "execution_count": 29,
     "metadata": {},
     "output_type": "execute_result"
    }
   ],
   "source": [
    "def apply_to_list(some_list, f):\n",
    "    return [f(x) for x in some_list]\n",
    "\n",
    "\n",
    "inst = [4, 0, 1, 5, 6]\n",
    "\n",
    "apply_to_list(inst, lambda x: x * 2)"
   ]
  },
  {
   "cell_type": "code",
   "execution_count": 30,
   "id": "younger-product",
   "metadata": {
    "panel-layout": {
     "height": 135.078125,
     "visible": true,
     "width": 100
    }
   },
   "outputs": [
    {
     "data": {
      "text/plain": [
       "['aaa', 'foo', 'abab', 'bar', 'card']"
      ]
     },
     "execution_count": 30,
     "metadata": {},
     "output_type": "execute_result"
    }
   ],
   "source": [
    "# ordenar una colección de cadenas por el número de letras distintas en cada cadena\n",
    "# list.sort(key=func) # puede llamar a una función\n",
    "strings = [\"foo\", \"card\", \"bar\", \"aaa\", \"abab\"]\n",
    "\n",
    "strings.sort(key=lambda x: len(set(x)))\n",
    "\n",
    "strings"
   ]
  },
  {
   "cell_type": "code",
   "execution_count": 31,
   "id": "artificial-budget",
   "metadata": {},
   "outputs": [
    {
     "name": "stdout",
     "output_type": "stream",
     "text": [
      "aaa 1\n",
      "foo 2\n",
      "abab 2\n",
      "bar 3\n",
      "card 4\n"
     ]
    }
   ],
   "source": [
    "# un bucle para tener un ejemplo visual de lo anterior\n",
    "for a in strings:\n",
    "    print(a, len(set(a)))"
   ]
  },
  {
   "cell_type": "markdown",
   "id": "arranged-dressing",
   "metadata": {
    "panel-layout": {
     "height": 95.359375,
     "visible": true,
     "width": 100
    }
   },
   "source": [
    "### `itertools`\n",
    "`grouopby` toma cualquier secuencia y una función, agrupando elementos consecutivos en\n",
    "la secuencia por valor de retorno de la función."
   ]
  },
  {
   "cell_type": "code",
   "execution_count": 32,
   "id": "accompanied-cursor",
   "metadata": {},
   "outputs": [
    {
     "name": "stdout",
     "output_type": "stream",
     "text": [
      "A ['Adam', 'Alan', 'Albert']\n",
      "S ['Steven']\n",
      "W ['Wes', 'Will']\n"
     ]
    }
   ],
   "source": [
    "import itertools\n",
    "\n",
    "\n",
    "def first_letter(x):\n",
    "    return x[0]\n",
    "\n",
    "\n",
    "names = [\"Alan\", \"Adam\", \"Wes\", \"Will\", \"Albert\", \"Steven\"]\n",
    "\n",
    "for letter, names in itertools.groupby(sorted(names), first_letter):\n",
    "    print(letter, list(names))"
   ]
  },
  {
   "cell_type": "markdown",
   "id": "dried-archives",
   "metadata": {
    "panel-layout": {
     "height": 44.09375,
     "visible": true,
     "width": 100
    }
   },
   "source": [
    "### Manejo de excepciones"
   ]
  },
  {
   "cell_type": "code",
   "execution_count": 33,
   "id": "aggressive-revision",
   "metadata": {
    "panel-layout": {
     "height": 0,
     "visible": true,
     "width": 100
    }
   },
   "outputs": [
    {
     "name": "stdout",
     "output_type": "stream",
     "text": [
      "-10.0\n",
      "no es float: Python\n"
     ]
    }
   ],
   "source": [
    "# manejar una excepción con float\n",
    "def attemp_float(x):\n",
    "    try:\n",
    "        return float(x) # intenta pasarlo a float\n",
    "    except:\n",
    "        return f\"no es float: {x}\" # si falla, retorna x\n",
    "\n",
    "print(attemp_float(-10))\n",
    "print(attemp_float(\"Python\"))"
   ]
  },
  {
   "cell_type": "code",
   "execution_count": 34,
   "id": "senior-invasion",
   "metadata": {
    "panel-layout": {
     "height": 0,
     "visible": true,
     "width": 100
    }
   },
   "outputs": [
    {
     "name": "stdout",
     "output_type": "stream",
     "text": [
      "10.0\n",
      "No es float: Debian\n"
     ]
    }
   ],
   "source": [
    "# manejar ValueError\n",
    "def attemp_float(x):\n",
    "    try:\n",
    "        return float(x)\n",
    "    except ValueError:\n",
    "        return f\"No es float: {x}\"\n",
    "    \n",
    "print(attemp_float(10))\n",
    "print(attemp_float(\"Debian\"))"
   ]
  },
  {
   "cell_type": "code",
   "execution_count": 35,
   "id": "respiratory-million",
   "metadata": {
    "panel-layout": {
     "height": 0,
     "visible": true,
     "width": 100
    }
   },
   "outputs": [
    {
     "name": "stdout",
     "output_type": "stream",
     "text": [
      "100.12\n",
      "No es float: Linux\n"
     ]
    }
   ],
   "source": [
    "# detectar múltiples excepciones con tuplas\n",
    "def attemp_float(x):\n",
    "    try:\n",
    "        return float(x)\n",
    "    except (TypeError, ValueError):\n",
    "        return f\"No es float: {x}\"\n",
    "    \n",
    "print(attemp_float(100.12))\n",
    "print(attemp_float(\"Linux\"))"
   ]
  },
  {
   "cell_type": "markdown",
   "id": "celtic-malpractice",
   "metadata": {
    "panel-layout": {
     "height": 68.28125,
     "visible": true,
     "width": 100
    }
   },
   "source": [
    "Es posible suprimir la excepción, pero ejecutar código independientemente de si el\n",
    "código en `try` tiene éxito o no."
   ]
  },
  {
   "cell_type": "markdown",
   "id": "entire-tuning",
   "metadata": {
    "panel-layout": {
     "height": 196.25,
     "visible": true,
     "width": 100
    }
   },
   "source": [
    "```py\n",
    "f = open(path, mode=\"w\")\n",
    "\n",
    "try:\n",
    "    write_to_file(f)\n",
    "finally:\n",
    "    f.close() # el objetivo de esta línea es siempre cerrar el archivo\n",
    "```"
   ]
  },
  {
   "cell_type": "markdown",
   "id": "further-scope",
   "metadata": {
    "panel-layout": {
     "height": 51.140625,
     "visible": true,
     "width": 100
    }
   },
   "source": [
    "Ejecutar un código solo si `try` tiene éxito."
   ]
  },
  {
   "cell_type": "markdown",
   "id": "amazing-terrorist",
   "metadata": {
    "panel-layout": {
     "height": 247.671875,
     "visible": true,
     "width": 100
    }
   },
   "source": [
    "```py\n",
    "f = open(path, mode=\"w\")\n",
    "\n",
    "try:\n",
    "    write_to_file(f)\n",
    "except:\n",
    "    print(\"Failed\")\n",
    "else:\n",
    "    print(\"Suceeded\")\n",
    "finally:\n",
    "    f.close()\n",
    "```"
   ]
  },
  {
   "cell_type": "markdown",
   "id": "automotive-administrator",
   "metadata": {
    "panel-layout": {
     "height": 44.09375,
     "visible": true,
     "width": 100
    }
   },
   "source": [
    "### Archivos y el sistema operativo"
   ]
  },
  {
   "cell_type": "code",
   "execution_count": 36,
   "id": "polar-communication",
   "metadata": {},
   "outputs": [
    {
     "name": "stdout",
     "output_type": "stream",
     "text": [
      "Sueña el rico en su riqueza,\n",
      "\n",
      "que más cuidados le ofrece;\n",
      "\n",
      "\n",
      "\n",
      "sueña el pobre que padece\n",
      "\n",
      "su miseria y su pobreza;\n",
      "\n",
      "\n",
      "\n",
      "sueña el que a medrar empieza,\n",
      "\n",
      "sueña el que afana y pretende,\n",
      "\n",
      "sueña el que agravia y ofende,\n",
      "\n",
      "\n",
      "\n",
      "y en el mundo, en conclusión,\n",
      "\n",
      "todos sueñan lo que son,\n",
      "\n",
      "aunque ninguno lo entiende.\n",
      "\n",
      "\n",
      "\n"
     ]
    }
   ],
   "source": [
    "path = r\"./segismundo.txt\"\n",
    "# de forma predeterminada, el archivo se abre en modo lectura\n",
    "f = open(path, encoding=\"utf-8-sig\")\n",
    "\n",
    "for line in f:\n",
    "    print(line)"
   ]
  },
  {
   "cell_type": "code",
   "execution_count": 37,
   "id": "adjusted-example",
   "metadata": {
    "panel-layout": {
     "height": 220.78125,
     "visible": true,
     "width": 100
    }
   },
   "outputs": [
    {
     "data": {
      "text/plain": [
       "['Sueña el rico en su riqueza,',\n",
       " 'que más cuidados le ofrece;',\n",
       " 'sueña el pobre que padece',\n",
       " 'su miseria y su pobreza;',\n",
       " 'sueña el que a medrar empieza,',\n",
       " 'sueña el que afana y pretende,',\n",
       " 'sueña el que agravia y ofende,',\n",
       " 'y en el mundo, en conclusión,',\n",
       " 'todos sueñan lo que son,',\n",
       " 'aunque ninguno lo entiende.']"
      ]
     },
     "execution_count": 37,
     "metadata": {},
     "output_type": "execute_result"
    }
   ],
   "source": [
    "# el archivo sale con los marcadores de fin de línea EOL\n",
    "lines = [x.strip() for x in open(path, encoding=\"utf-8-sig\") if len(x) > 2]\n",
    "lines # lo imprime sin espacio y sin líneas vacías"
   ]
  },
  {
   "cell_type": "code",
   "execution_count": 38,
   "id": "discrete-treasurer",
   "metadata": {},
   "outputs": [],
   "source": [
    "# escribir un archivo sin líneas en blanco\n",
    "with open(\"tmp.txt\", \"w\") as handle:\n",
    "    handle.writelines([x for x in open(path) if len(x) > 1])"
   ]
  },
  {
   "cell_type": "code",
   "execution_count": 39,
   "id": "induced-relations",
   "metadata": {
    "panel-layout": {
     "height": 220.781005859375,
     "visible": true,
     "width": 100
    },
    "scrolled": true
   },
   "outputs": [
    {
     "data": {
      "text/plain": [
       "['Sueña el rico en su riqueza,',\n",
       " 'que más cuidados le ofrece;',\n",
       " 'sueña el pobre que padece',\n",
       " 'su miseria y su pobreza;',\n",
       " 'sueña el que a medrar empieza,',\n",
       " 'sueña el que afana y pretende,',\n",
       " 'sueña el que agravia y ofende,',\n",
       " 'y en el mundo, en conclusión,',\n",
       " 'todos sueñan lo que son,',\n",
       " 'aunque ninguno lo entiende.']"
      ]
     },
     "execution_count": 39,
     "metadata": {},
     "output_type": "execute_result"
    }
   ],
   "source": [
    "# acceder al nuevo archivo generado\n",
    "with open(\"tmp.txt\", encoding=\"utf-8-sig\") as f:\n",
    "    lineas = f.readline()\n",
    "\n",
    "lines"
   ]
  },
  {
   "cell_type": "markdown",
   "id": "moving-tablet",
   "metadata": {
    "panel-layout": {
     "height": 68.28125,
     "visible": true,
     "width": 100
    }
   },
   "source": [
    "`write` escribe línea por línea sin añadir el salto de línea, mientras que `writelines`\n",
    "escribe una lista de cadenas."
   ]
  }
 ],
 "metadata": {
  "kernelspec": {
   "display_name": "Python 3 (ipykernel)",
   "language": "python",
   "name": "python3"
  },
  "language_info": {
   "codemirror_mode": {
    "name": "ipython",
    "version": 3
   },
   "file_extension": ".py",
   "mimetype": "text/x-python",
   "name": "python",
   "nbconvert_exporter": "python",
   "pygments_lexer": "ipython3",
   "version": "3.13.5"
  },
  "panel-cell-order": [
   "certain-breathing",
   "exempt-symbol",
   "acceptable-musical",
   "novel-invasion",
   "laden-calcium",
   "sized-annotation",
   "loved-sphere",
   "violent-terrace",
   "metropolitan-cleanup",
   "accessible-syntax",
   "parliamentary-guarantee",
   "statutory-execution",
   "blocked-student",
   "impaired-bottle",
   "brave-interim",
   "american-statistics",
   "south-switzerland",
   "prepared-concentrate",
   "tested-prime",
   "established-lobby",
   "involved-silence",
   "prerequisite-royal",
   "certified-jumping",
   "refined-modification",
   "stylish-finish",
   "protective-washer",
   "checked-venice",
   "figured-coffee",
   "medium-chicago",
   "democratic-criticism",
   "organized-slovak",
   "66e181b3-a9c9-4576-ba74-935f0053c38f",
   "fitted-darwin",
   "ordinary-associate",
   "developed-projector",
   "younger-product",
   "arranged-dressing",
   "dried-archives",
   "aggressive-revision",
   "senior-invasion",
   "respiratory-million",
   "celtic-malpractice",
   "entire-tuning",
   "further-scope",
   "amazing-terrorist",
   "automotive-administrator",
   "adjusted-example",
   "induced-relations",
   "moving-tablet"
  ]
 },
 "nbformat": 4,
 "nbformat_minor": 5
}
