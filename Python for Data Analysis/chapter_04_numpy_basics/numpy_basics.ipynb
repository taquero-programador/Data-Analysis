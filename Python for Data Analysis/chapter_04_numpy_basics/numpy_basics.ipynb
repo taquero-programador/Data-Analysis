{
 "cells": [
  {
   "cell_type": "markdown",
   "id": "forced-memorial",
   "metadata": {},
   "source": [
    "## Chapter 4: NumPy basics"
   ]
  },
  {
   "cell_type": "markdown",
   "id": "realistic-enhancement",
   "metadata": {},
   "source": [
    "### Diferencia entre `array` y `list`"
   ]
  },
  {
   "cell_type": "code",
   "execution_count": 1,
   "id": "applied-suffering",
   "metadata": {},
   "outputs": [],
   "source": [
    "import numpy as np"
   ]
  },
  {
   "cell_type": "code",
   "execution_count": 2,
   "id": "bd9b7369-db21-46be-aeb7-e5125bd06998",
   "metadata": {},
   "outputs": [
    {
     "data": {
      "text/plain": [
       "(2, 2, 4)"
      ]
     },
     "execution_count": 2,
     "metadata": {},
     "output_type": "execute_result"
    }
   ],
   "source": [
    "np.array([[[1,2,3,4],[5,6,7,8]],[[1,2,3,4],[5,6,7,8]]]).shape # array[ eje[ dim[col1,2],[3,4]], [[1,2],[3,4]]]"
   ]
  },
  {
   "cell_type": "code",
   "execution_count": 3,
   "id": "narrative-steel",
   "metadata": {},
   "outputs": [],
   "source": [
    "my_arr = np.arange(1_000_00)\n",
    "my_list = list(range(1_000_00))"
   ]
  },
  {
   "cell_type": "markdown",
   "id": "joined-thailand",
   "metadata": {},
   "source": [
    "Comparar los tiempos:"
   ]
  },
  {
   "cell_type": "code",
   "execution_count": 4,
   "id": "joined-trial",
   "metadata": {},
   "outputs": [
    {
     "name": "stdout",
     "output_type": "stream",
     "text": [
      "CPU times: user 1.05 ms, sys: 3.54 ms, total: 4.59 ms\n",
      "Wall time: 4.49 ms\n"
     ]
    }
   ],
   "source": [
    "%time my_arr2 = my_arr * 2"
   ]
  },
  {
   "cell_type": "code",
   "execution_count": 5,
   "id": "brief-genre",
   "metadata": {},
   "outputs": [
    {
     "name": "stdout",
     "output_type": "stream",
     "text": [
      "CPU times: user 3.36 ms, sys: 0 ns, total: 3.36 ms\n",
      "Wall time: 3.39 ms\n"
     ]
    }
   ],
   "source": [
    "%time my_list2 = my_list * 2"
   ]
  },
  {
   "cell_type": "markdown",
   "id": "according-assault",
   "metadata": {},
   "source": [
    "### Indexación Booleana"
   ]
  },
  {
   "cell_type": "code",
   "execution_count": 6,
   "id": "hungry-function",
   "metadata": {},
   "outputs": [],
   "source": [
    "names = np.array([\"Bob\", \"Joe\", \"Will\", \"Bob\", \"Will\", \"Joe\", \"Joe\"])\n",
    "data = np.array([[4, 7], [0, 2], [-5, 6], [0, 0], [1, 2], [-12, -4], [3, 4]])"
   ]
  },
  {
   "cell_type": "code",
   "execution_count": 7,
   "id": "regular-multimedia",
   "metadata": {},
   "outputs": [
    {
     "data": {
      "text/plain": [
       "array([ True, False, False,  True, False, False, False])"
      ]
     },
     "execution_count": 7,
     "metadata": {},
     "output_type": "execute_result"
    }
   ],
   "source": [
    "names == \"Bob\""
   ]
  },
  {
   "cell_type": "code",
   "execution_count": 8,
   "id": "golden-workstation",
   "metadata": {},
   "outputs": [
    {
     "data": {
      "text/plain": [
       "array([[4, 7],\n",
       "       [0, 0]])"
      ]
     },
     "execution_count": 8,
     "metadata": {},
     "output_type": "execute_result"
    }
   ],
   "source": [
    "# indexación\n",
    "data[names == \"Bob\"] # trae los valores en data cuando los valores en names igual a \"Bob\""
   ]
  },
  {
   "cell_type": "code",
   "execution_count": 9,
   "id": "residential-wheat",
   "metadata": {},
   "outputs": [
    {
     "data": {
      "text/plain": [
       "array([False,  True,  True, False,  True,  True,  True])"
      ]
     },
     "execution_count": 9,
     "metadata": {},
     "output_type": "execute_result"
    }
   ],
   "source": [
    "# todo menos \"Bob\"\n",
    "names != \"Bob\""
   ]
  },
  {
   "cell_type": "markdown",
   "id": "persistent-circuit",
   "metadata": {},
   "source": [
    "`~` invierte una matriz booleana referenciada."
   ]
  },
  {
   "cell_type": "code",
   "execution_count": 10,
   "id": "genetic-offering",
   "metadata": {},
   "outputs": [
    {
     "data": {
      "text/plain": [
       "array([False,  True,  True, False,  True,  True,  True])"
      ]
     },
     "execution_count": 10,
     "metadata": {},
     "output_type": "execute_result"
    }
   ],
   "source": [
    "~(names == \"Bob\")"
   ]
  },
  {
   "cell_type": "code",
   "execution_count": 11,
   "id": "powered-kenya",
   "metadata": {},
   "outputs": [
    {
     "data": {
      "text/plain": [
       "array([[  0,   2],\n",
       "       [ -5,   6],\n",
       "       [  1,   2],\n",
       "       [-12,  -4],\n",
       "       [  3,   4]])"
      ]
     },
     "execution_count": 11,
     "metadata": {},
     "output_type": "execute_result"
    }
   ],
   "source": [
    "data[~(names == \"Bob\")]"
   ]
  },
  {
   "cell_type": "markdown",
   "id": "civilian-disney",
   "metadata": {},
   "source": [
    "`~` puede ser usado para una matriz referenciada por una variable."
   ]
  },
  {
   "cell_type": "code",
   "execution_count": 12,
   "id": "forced-palace",
   "metadata": {},
   "outputs": [
    {
     "data": {
      "text/plain": [
       "array([[  0,   2],\n",
       "       [ -5,   6],\n",
       "       [  1,   2],\n",
       "       [-12,  -4],\n",
       "       [  3,   4]])"
      ]
     },
     "execution_count": 12,
     "metadata": {},
     "output_type": "execute_result"
    }
   ],
   "source": [
    "cond = names == \"Bob\"\n",
    "data[~cond]"
   ]
  },
  {
   "cell_type": "markdown",
   "id": "photographic-field",
   "metadata": {},
   "source": [
    "### Operadores and `&` y or `|`"
   ]
  },
  {
   "cell_type": "code",
   "execution_count": 13,
   "id": "detected-engine",
   "metadata": {},
   "outputs": [
    {
     "data": {
      "text/plain": [
       "array([ True, False,  True,  True,  True, False, False])"
      ]
     },
     "execution_count": 13,
     "metadata": {},
     "output_type": "execute_result"
    }
   ],
   "source": [
    "mask = (names == \"Bob\") | (names == \"Will\")\n",
    "mask"
   ]
  },
  {
   "cell_type": "code",
   "execution_count": 14,
   "id": "connected-month",
   "metadata": {},
   "outputs": [
    {
     "data": {
      "text/plain": [
       "array([[ 4,  7],\n",
       "       [-5,  6],\n",
       "       [ 0,  0],\n",
       "       [ 1,  2]])"
      ]
     },
     "execution_count": 14,
     "metadata": {},
     "output_type": "execute_result"
    }
   ],
   "source": [
    "data[mask]"
   ]
  },
  {
   "cell_type": "markdown",
   "id": "reduced-challenge",
   "metadata": {},
   "source": [
    "Sustituir el valor o valores en el lado derecho."
   ]
  },
  {
   "cell_type": "code",
   "execution_count": 15,
   "id": "hollow-address",
   "metadata": {},
   "outputs": [
    {
     "data": {
      "text/plain": [
       "array([[4, 7],\n",
       "       [0, 2],\n",
       "       [0, 6],\n",
       "       [0, 0],\n",
       "       [1, 2],\n",
       "       [0, 0],\n",
       "       [3, 4]])"
      ]
     },
     "execution_count": 15,
     "metadata": {},
     "output_type": "execute_result"
    }
   ],
   "source": [
    "data[data < 0] = 0\n",
    "data"
   ]
  },
  {
   "cell_type": "code",
   "execution_count": 16,
   "id": "enhanced-refund",
   "metadata": {},
   "outputs": [
    {
     "data": {
      "text/plain": [
       "array([[7, 7],\n",
       "       [0, 2],\n",
       "       [7, 7],\n",
       "       [7, 7],\n",
       "       [7, 7],\n",
       "       [0, 0],\n",
       "       [3, 4]])"
      ]
     },
     "execution_count": 16,
     "metadata": {},
     "output_type": "execute_result"
    }
   ],
   "source": [
    "data[names != \"Joe\"] = 7\n",
    "data"
   ]
  },
  {
   "cell_type": "markdown",
   "id": "conceptual-youth",
   "metadata": {},
   "source": [
    "Indexación fancy."
   ]
  },
  {
   "cell_type": "code",
   "execution_count": 17,
   "id": "muslim-order",
   "metadata": {},
   "outputs": [
    {
     "data": {
      "text/plain": [
       "array([[0., 0., 0., 0.],\n",
       "       [1., 1., 1., 1.],\n",
       "       [2., 2., 2., 2.],\n",
       "       [3., 3., 3., 3.],\n",
       "       [4., 4., 4., 4.],\n",
       "       [5., 5., 5., 5.],\n",
       "       [6., 6., 6., 6.],\n",
       "       [7., 7., 7., 7.]])"
      ]
     },
     "execution_count": 17,
     "metadata": {},
     "output_type": "execute_result"
    }
   ],
   "source": [
    "arr = np.zeros((8, 4))\n",
    "\n",
    "for i in range(8):\n",
    "    arr[i] = i\n",
    "\n",
    "arr"
   ]
  },
  {
   "cell_type": "markdown",
   "id": "handed-bacteria",
   "metadata": {},
   "source": [
    "Seleccionar un subconjunto de filas en un orden en particular."
   ]
  },
  {
   "cell_type": "code",
   "execution_count": 18,
   "id": "interested-slide",
   "metadata": {},
   "outputs": [
    {
     "data": {
      "text/plain": [
       "array([[4., 4., 4., 4.],\n",
       "       [3., 3., 3., 3.],\n",
       "       [0., 0., 0., 0.],\n",
       "       [6., 6., 6., 6.]])"
      ]
     },
     "execution_count": 18,
     "metadata": {},
     "output_type": "execute_result"
    }
   ],
   "source": [
    "arr[[4, 3, 0, 6]]"
   ]
  },
  {
   "cell_type": "markdown",
   "id": "given-iraqi",
   "metadata": {},
   "source": [
    "Funciona diferente un array de dimensiones."
   ]
  },
  {
   "cell_type": "code",
   "execution_count": 19,
   "id": "happy-january",
   "metadata": {},
   "outputs": [
    {
     "data": {
      "text/plain": [
       "array([[ 0,  1,  2,  3],\n",
       "       [ 4,  5,  6,  7],\n",
       "       [ 8,  9, 10, 11],\n",
       "       [12, 13, 14, 15],\n",
       "       [16, 17, 18, 19],\n",
       "       [20, 21, 22, 23],\n",
       "       [24, 25, 26, 27],\n",
       "       [28, 29, 30, 31]])"
      ]
     },
     "execution_count": 19,
     "metadata": {},
     "output_type": "execute_result"
    }
   ],
   "source": [
    "arr = np.arange(32).reshape((8, 4))\n",
    "arr"
   ]
  },
  {
   "cell_type": "code",
   "execution_count": 20,
   "id": "auburn-wells",
   "metadata": {},
   "outputs": [
    {
     "data": {
      "text/plain": [
       "array([ 4, 23, 29, 10])"
      ]
     },
     "execution_count": 20,
     "metadata": {},
     "output_type": "execute_result"
    }
   ],
   "source": [
    "arr[[1, 5, 7, 2], [0, 3, 1, 2]] # dimensión, posición"
   ]
  },
  {
   "cell_type": "markdown",
   "id": "elect-beauty",
   "metadata": {},
   "source": [
    "Transposición y ejes de intercambio."
   ]
  },
  {
   "cell_type": "code",
   "execution_count": 21,
   "id": "horizontal-finnish",
   "metadata": {},
   "outputs": [],
   "source": [
    "arr = np.arange(15).reshape((3, 5))"
   ]
  },
  {
   "cell_type": "code",
   "execution_count": 22,
   "id": "hazardous-spectacular",
   "metadata": {},
   "outputs": [
    {
     "data": {
      "text/plain": [
       "array([[ 0,  1,  2,  3,  4],\n",
       "       [ 5,  6,  7,  8,  9],\n",
       "       [10, 11, 12, 13, 14]])"
      ]
     },
     "execution_count": 22,
     "metadata": {},
     "output_type": "execute_result"
    }
   ],
   "source": [
    "arr"
   ]
  },
  {
   "cell_type": "code",
   "execution_count": 23,
   "id": "addressed-interview",
   "metadata": {},
   "outputs": [
    {
     "data": {
      "text/plain": [
       "array([[ 0,  5, 10],\n",
       "       [ 1,  6, 11],\n",
       "       [ 2,  7, 12],\n",
       "       [ 3,  8, 13],\n",
       "       [ 4,  9, 14]])"
      ]
     },
     "execution_count": 23,
     "metadata": {},
     "output_type": "execute_result"
    }
   ],
   "source": [
    "arr.T"
   ]
  },
  {
   "cell_type": "markdown",
   "id": "wooden-atlas",
   "metadata": {},
   "source": [
    "Calcular el producto con `numpy.dot`."
   ]
  },
  {
   "cell_type": "code",
   "execution_count": 24,
   "id": "superior-north",
   "metadata": {},
   "outputs": [
    {
     "data": {
      "text/plain": [
       "array([[40, 20, 11],\n",
       "       [20, 13,  2],\n",
       "       [11,  2, 11]])"
      ]
     },
     "execution_count": 24,
     "metadata": {},
     "output_type": "execute_result"
    }
   ],
   "source": [
    "arr = np.array([[1, 0, 1], [1, 2, -2], [6, 3, 2], [-1, 0, 1], [1, 0, 1]])\n",
    "np.dot(arr.T, arr)"
   ]
  },
  {
   "cell_type": "code",
   "execution_count": 25,
   "id": "weird-rendering",
   "metadata": {},
   "outputs": [
    {
     "data": {
      "text/plain": [
       "array([[40, 20, 11],\n",
       "       [20, 13,  2],\n",
       "       [11,  2, 11]])"
      ]
     },
     "execution_count": 25,
     "metadata": {},
     "output_type": "execute_result"
    }
   ],
   "source": [
    "# con @\n",
    "arr.T @ arr"
   ]
  },
  {
   "cell_type": "markdown",
   "id": "deluxe-clock",
   "metadata": {},
   "source": [
    "Generar números psuedorandom."
   ]
  },
  {
   "cell_type": "code",
   "execution_count": 26,
   "id": "sunrise-marathon",
   "metadata": {},
   "outputs": [
    {
     "data": {
      "text/plain": [
       "array([[-0.33701136,  0.50232458,  0.85393836,  0.79055655],\n",
       "       [-0.9562172 , -1.23848521,  0.87497893, -1.2727911 ],\n",
       "       [ 1.1981436 , -0.89792472,  1.0376627 ,  0.73206321],\n",
       "       [ 0.28349853, -0.24709403, -2.03353417,  1.0784696 ]])"
      ]
     },
     "execution_count": 26,
     "metadata": {},
     "output_type": "execute_result"
    }
   ],
   "source": [
    "samples = np.random.standard_normal(size=(4, 4))\n",
    "samples"
   ]
  },
  {
   "cell_type": "markdown",
   "id": "chief-corrections",
   "metadata": {},
   "source": [
    "Es más rápido que `random` de Python."
   ]
  },
  {
   "cell_type": "code",
   "execution_count": 27,
   "id": "caroline-function",
   "metadata": {},
   "outputs": [],
   "source": [
    "from random import normalvariate\n",
    "\n",
    "N = 1_000_000"
   ]
  },
  {
   "cell_type": "code",
   "execution_count": 28,
   "id": "individual-graduate",
   "metadata": {},
   "outputs": [
    {
     "name": "stdout",
     "output_type": "stream",
     "text": [
      "CPU times: user 108 ms, sys: 3.79 ms, total: 112 ms\n",
      "Wall time: 112 ms\n"
     ]
    }
   ],
   "source": [
    "%time samples = [normalvariate for _ in range(N)]"
   ]
  },
  {
   "cell_type": "code",
   "execution_count": 29,
   "id": "integrated-chinese",
   "metadata": {},
   "outputs": [
    {
     "name": "stdout",
     "output_type": "stream",
     "text": [
      "CPU times: user 62.1 ms, sys: 4.28 ms, total: 66.4 ms\n",
      "Wall time: 64.6 ms\n"
     ]
    },
    {
     "data": {
      "text/plain": [
       "array([ 0.35397899, -0.46426458, -0.6633401 , ..., -0.29610673,\n",
       "       -0.33790032,  0.47147951])"
      ]
     },
     "execution_count": 29,
     "metadata": {},
     "output_type": "execute_result"
    }
   ],
   "source": [
    "%time np.random.standard_normal(N)"
   ]
  },
  {
   "cell_type": "code",
   "execution_count": 30,
   "id": "tested-crisis",
   "metadata": {},
   "outputs": [
    {
     "data": {
      "text/plain": [
       "numpy.random._generator.Generator"
      ]
     },
     "execution_count": 30,
     "metadata": {},
     "output_type": "execute_result"
    }
   ],
   "source": [
    "# permite ser configurado con seed\n",
    "rng = np.random.default_rng(seed=12345)\n",
    "data = rng.standard_normal((2, 3))\n",
    "type(rng)"
   ]
  },
  {
   "cell_type": "markdown",
   "id": "wireless-confidence",
   "metadata": {},
   "source": [
    "### Programación orientada a matrices con matrices"
   ]
  },
  {
   "cell_type": "code",
   "execution_count": 31,
   "id": "unlimited-blackjack",
   "metadata": {},
   "outputs": [],
   "source": [
    "# evaluar la función sqrt(x^2 + y^2)\n",
    "points = np.arange(-5, 5, 0.01)\n",
    "xs, ys = np.meshgrid(points, points)"
   ]
  },
  {
   "cell_type": "code",
   "execution_count": 32,
   "id": "severe-tooth",
   "metadata": {},
   "outputs": [
    {
     "data": {
      "text/plain": [
       "array([[7.07106781, 7.06400028, 7.05693985, ..., 7.04988652, 7.05693985,\n",
       "        7.06400028],\n",
       "       [7.06400028, 7.05692568, 7.04985815, ..., 7.04279774, 7.04985815,\n",
       "        7.05692568],\n",
       "       [7.05693985, 7.04985815, 7.04278354, ..., 7.03571603, 7.04278354,\n",
       "        7.04985815],\n",
       "       ...,\n",
       "       [7.04988652, 7.04279774, 7.03571603, ..., 7.0286414 , 7.03571603,\n",
       "        7.04279774],\n",
       "       [7.05693985, 7.04985815, 7.04278354, ..., 7.03571603, 7.04278354,\n",
       "        7.04985815],\n",
       "       [7.06400028, 7.05692568, 7.04985815, ..., 7.04279774, 7.04985815,\n",
       "        7.05692568]])"
      ]
     },
     "execution_count": 32,
     "metadata": {},
     "output_type": "execute_result"
    }
   ],
   "source": [
    "# evaluar la función\n",
    "z = np.sqrt(xs ** 2 + ys ** 2)\n",
    "z"
   ]
  },
  {
   "cell_type": "markdown",
   "id": "chemical-shift",
   "metadata": {},
   "source": [
    "Ejemplo simple con `matplotlib`."
   ]
  },
  {
   "cell_type": "code",
   "execution_count": 33,
   "id": "ba6a7a06-ca09-4341-955d-d6bab3a67dc9",
   "metadata": {},
   "outputs": [
    {
     "data": {
      "text/plain": [
       "Text(0.5, 1.0, 'Image plotof $\\\\sqrt{x^2 + y^2} for a grid of values')"
      ]
     },
     "execution_count": 33,
     "metadata": {},
     "output_type": "execute_result"
    },
    {
     "data": {
      "image/png": "[encoded data removed]",
      "text/plain": [
       "<Figure size 640x480 with 2 Axes>"
      ]
     },
     "metadata": {},
     "output_type": "display_data"
    }
   ],
   "source": [
    "# descomentar\n",
    "import matplotlib.pyplot as plt\n",
    "\n",
    "plt.imshow(z, cmap=plt.cm.gray, extent=[-5, 5, -5, 5])\n",
    "plt.colorbar()\n",
    "plt.title(\"Image plotof $\\sqrt{x^2 + y^2} for a grid of values\")\n",
    "# plt.text(0.5, 1.0, \"Image plotof 4\\sqrt{x^2 + y^2} for a grif of values\")"
   ]
  },
  {
   "cell_type": "code",
   "execution_count": 34,
   "id": "hindu-publisher",
   "metadata": {},
   "outputs": [],
   "source": [
    "# cerrar todas la ventanas en IPython\n",
    "# plt.close(\"all\")"
   ]
  },
  {
   "cell_type": "markdown",
   "id": "liable-offer",
   "metadata": {},
   "source": [
    "### `np.where()`"
   ]
  },
  {
   "cell_type": "code",
   "execution_count": 35,
   "id": "affected-judgment",
   "metadata": {},
   "outputs": [],
   "source": [
    "xarr = np.array([1.1, 1.2, 1.3, 1.4, 1.5])\n",
    "yarr = np.array([2.1, 2.2, 2.3, 2.4, 2.5])\n",
    "cond = np.array([True, False, True, False, False])"
   ]
  },
  {
   "cell_type": "code",
   "execution_count": 36,
   "id": "convertible-contractor",
   "metadata": {},
   "outputs": [
    {
     "data": {
      "text/plain": [
       "[np.float64(1.1),\n",
       " np.float64(2.2),\n",
       " np.float64(1.3),\n",
       " np.float64(2.4),\n",
       " np.float64(2.5)]"
      ]
     },
     "execution_count": 36,
     "metadata": {},
     "output_type": "execute_result"
    }
   ],
   "source": [
    "# tomar un valor de xarr si está en cond o tomar yarr. list comprehension\n",
    "result = [(x if c else y)\n",
    "         for x, y, c in zip(xarr, yarr, cond)]\n",
    "result"
   ]
  },
  {
   "cell_type": "code",
   "execution_count": 37,
   "id": "bored-bumper",
   "metadata": {},
   "outputs": [
    {
     "data": {
      "text/plain": [
       "array([1.1, 2.2, 1.3, 2.4, 2.5])"
      ]
     },
     "execution_count": 37,
     "metadata": {},
     "output_type": "execute_result"
    }
   ],
   "source": [
    "# con np.where()\n",
    "result = np.where(cond, xarr, yarr)\n",
    "result"
   ]
  },
  {
   "cell_type": "markdown",
   "id": "muslim-perfume",
   "metadata": {},
   "source": [
    ">El segundo y tercer agumento en `numpy.where()` no es necesario que sean matrices;\n",
    "una o ambas pueden ser escalares."
   ]
  },
  {
   "cell_type": "markdown",
   "id": "romantic-motorcycle",
   "metadata": {},
   "source": [
    "    Una acción muy común en análisis de datos es producir una nueva matriz de valores\n",
    "    basados en otra matriz."
   ]
  },
  {
   "cell_type": "code",
   "execution_count": 38,
   "id": "atlantic-parts",
   "metadata": {},
   "outputs": [
    {
     "data": {
      "text/plain": [
       "array([[False,  True,  True, False],\n",
       "       [ True,  True, False,  True],\n",
       "       [False, False,  True, False],\n",
       "       [ True,  True,  True, False]])"
      ]
     },
     "execution_count": 38,
     "metadata": {},
     "output_type": "execute_result"
    }
   ],
   "source": [
    "arr = rng.standard_normal((4, 4))\n",
    "arr > 0"
   ]
  },
  {
   "cell_type": "code",
   "execution_count": 39,
   "id": "threatened-father",
   "metadata": {},
   "outputs": [
    {
     "data": {
      "text/plain": [
       "array([[-2,  2,  2, -2],\n",
       "       [ 2,  2, -2,  2],\n",
       "       [-2, -2,  2, -2],\n",
       "       [ 2,  2,  2, -2]])"
      ]
     },
     "execution_count": 39,
     "metadata": {},
     "output_type": "execute_result"
    }
   ],
   "source": [
    "new = np.where(arr > 0, 2, -2)\n",
    "new"
   ]
  },
  {
   "cell_type": "code",
   "execution_count": 40,
   "id": "disturbed-borough",
   "metadata": {},
   "outputs": [
    {
     "data": {
      "text/plain": [
       "array([[-1.3677927 ,  2.        ,  2.        , -1.95286306],\n",
       "       [ 2.        ,  2.        , -0.75938718,  2.        ],\n",
       "       [-0.46695317, -0.06068952,  2.        , -1.25666813],\n",
       "       [ 2.        ,  2.        ,  2.        , -0.29969852]])"
      ]
     },
     "execution_count": 40,
     "metadata": {},
     "output_type": "execute_result"
    }
   ],
   "source": [
    "# puede combinar escalares o matrices\n",
    "np.where(arr > 0, 2, arr)"
   ]
  },
  {
   "cell_type": "markdown",
   "id": "electronic-butler",
   "metadata": {},
   "source": [
    "### Métodos matemáticos y estadísticos\n",
    "Generar algunos datos aleatorios normalmente distribuidos y calcular algunas estadísticas agregadas."
   ]
  },
  {
   "cell_type": "code",
   "execution_count": 41,
   "id": "technical-accessory",
   "metadata": {},
   "outputs": [
    {
     "data": {
      "text/plain": [
       "np.float64(0.018063390847970272)"
      ]
     },
     "execution_count": 41,
     "metadata": {},
     "output_type": "execute_result"
    }
   ],
   "source": [
    "arr = rng.standard_normal((5, 4))\n",
    "arr.mean() # or np.mean(arr)"
   ]
  },
  {
   "cell_type": "code",
   "execution_count": 42,
   "id": "strategic-recognition",
   "metadata": {},
   "outputs": [
    {
     "data": {
      "text/plain": [
       "np.float64(0.36126781695940546)"
      ]
     },
     "execution_count": 42,
     "metadata": {},
     "output_type": "execute_result"
    }
   ],
   "source": [
    "arr.sum()"
   ]
  },
  {
   "cell_type": "code",
   "execution_count": 43,
   "id": "promotional-oracle",
   "metadata": {},
   "outputs": [
    {
     "data": {
      "text/plain": [
       "array([-0.10684218,  0.72940267, -0.14059552, -0.19439153, -0.1972565 ])"
      ]
     },
     "execution_count": 43,
     "metadata": {},
     "output_type": "execute_result"
    }
   ],
   "source": [
    "arr.mean(axis=1) # columnas"
   ]
  },
  {
   "cell_type": "code",
   "execution_count": 44,
   "id": "dramatic-cotton",
   "metadata": {},
   "outputs": [
    {
     "data": {
      "text/plain": [
       "array([-0.46085748, -0.01510651,  0.33448093,  0.21373661])"
      ]
     },
     "execution_count": 44,
     "metadata": {},
     "output_type": "execute_result"
    }
   ],
   "source": [
    "arr.mean(axis=0) # filas"
   ]
  },
  {
   "cell_type": "code",
   "execution_count": 45,
   "id": "sought-tracker",
   "metadata": {},
   "outputs": [
    {
     "data": {
      "text/plain": [
       "np.int64(52)"
      ]
     },
     "execution_count": 45,
     "metadata": {},
     "output_type": "execute_result"
    }
   ],
   "source": [
    "# métodos para matrices booleanas\n",
    "arr = rng.standard_normal(100)\n",
    "(arr > 0).sum()"
   ]
  },
  {
   "cell_type": "code",
   "execution_count": 46,
   "id": "excess-great",
   "metadata": {},
   "outputs": [
    {
     "data": {
      "text/plain": [
       "np.int64(48)"
      ]
     },
     "execution_count": 46,
     "metadata": {},
     "output_type": "execute_result"
    }
   ],
   "source": [
    "(arr <= 0).sum()"
   ]
  },
  {
   "cell_type": "code",
   "execution_count": 47,
   "id": "classical-melbourne",
   "metadata": {},
   "outputs": [
    {
     "data": {
      "text/plain": [
       "array(['Bob', 'Joe', 'Will'], dtype='<U4')"
      ]
     },
     "execution_count": 47,
     "metadata": {},
     "output_type": "execute_result"
    }
   ],
   "source": [
    "# lógica única\n",
    "names = np.array([\"Bob\", \"Will\", \"Bob\", \"Will\", \"Joe\", \"Joe\"])\n",
    "np.unique(names) # retorna únicos"
   ]
  },
  {
   "cell_type": "code",
   "execution_count": 48,
   "id": "empty-campbell",
   "metadata": {},
   "outputs": [
    {
     "data": {
      "text/plain": [
       "array([2, 3])"
      ]
     },
     "execution_count": 48,
     "metadata": {},
     "output_type": "execute_result"
    }
   ],
   "source": [
    "inst = np.array([3, 3, 3, 2])\n",
    "np.unique(inst)"
   ]
  },
  {
   "cell_type": "markdown",
   "id": "caroline-nepal",
   "metadata": {},
   "source": [
    "### Entrada y salida de archivos con `arrays`\n",
    "`numpy.save` y `numpy.load` sirven para cargar y guardar archivos."
   ]
  },
  {
   "cell_type": "code",
   "execution_count": 49,
   "id": "oriented-queensland",
   "metadata": {},
   "outputs": [],
   "source": [
    "arr = np.arange(10)\n",
    "np.save(\"some_arrays\", arr) # el archivo se guarda como .npy"
   ]
  },
  {
   "cell_type": "code",
   "execution_count": 50,
   "id": "convertible-arthur",
   "metadata": {},
   "outputs": [],
   "source": [
    "# guardar varias matrices en un archivo sin comprimir\n",
    "np.savez(\"some_arr\", a=arr, b=arr) # se guarda como .npz"
   ]
  },
  {
   "cell_type": "code",
   "execution_count": 51,
   "id": "excellent-german",
   "metadata": {},
   "outputs": [],
   "source": [
    "# cargar un archivo\n",
    "arch = np.load(\"some_arr.npz\")"
   ]
  },
  {
   "cell_type": "code",
   "execution_count": 52,
   "id": "sunset-reminder",
   "metadata": {},
   "outputs": [
    {
     "data": {
      "text/plain": [
       "array([0, 1, 2, 3, 4, 5, 6, 7, 8, 9])"
      ]
     },
     "execution_count": 52,
     "metadata": {},
     "output_type": "execute_result"
    }
   ],
   "source": [
    "# se accede a cada array como un diccionario\n",
    "arch[\"a\"]"
   ]
  },
  {
   "cell_type": "markdown",
   "id": "impressed-begin",
   "metadata": {},
   "source": [
    "### Álgebra líneal"
   ]
  },
  {
   "cell_type": "code",
   "execution_count": 53,
   "id": "alive-sunglasses",
   "metadata": {},
   "outputs": [
    {
     "data": {
      "text/plain": [
       "array([[ 28.,  64.],\n",
       "       [ 67., 181.]])"
      ]
     },
     "execution_count": 53,
     "metadata": {},
     "output_type": "execute_result"
    }
   ],
   "source": [
    "x = np.array([[1., 2., 3.], [4., 5., 6.]])\n",
    "y = np.array([[6., 23.], [-1, 7], [8, 9]])\n",
    "x.dot(y)"
   ]
  },
  {
   "cell_type": "code",
   "execution_count": 54,
   "id": "interpreted-graph",
   "metadata": {},
   "outputs": [
    {
     "data": {
      "text/plain": [
       "array([[ 28.,  64.],\n",
       "       [ 67., 181.]])"
      ]
     },
     "execution_count": 54,
     "metadata": {},
     "output_type": "execute_result"
    }
   ],
   "source": [
    "# es equivalente a\n",
    "np.dot(x, y)"
   ]
  },
  {
   "cell_type": "code",
   "execution_count": 55,
   "id": "black-shannon",
   "metadata": {},
   "outputs": [
    {
     "data": {
      "text/plain": [
       "array([ 6., 15.])"
      ]
     },
     "execution_count": 55,
     "metadata": {},
     "output_type": "execute_result"
    }
   ],
   "source": [
    "# or\n",
    "x @ np.ones(3)"
   ]
  },
  {
   "cell_type": "code",
   "execution_count": 56,
   "id": "acf2cdcc-8b98-4a7b-8a2a-7e1001a879ba",
   "metadata": {},
   "outputs": [
    {
     "data": {
      "text/plain": [
       "array([[ 1.00000000e+00,  4.43187030e-15, -4.21150576e-17,\n",
       "         1.71771410e-15,  4.83810534e-15],\n",
       "       [ 1.23040025e-15,  1.00000000e+00,  2.69367869e-16,\n",
       "        -8.03804087e-15,  1.31224568e-14],\n",
       "       [ 3.65695904e-16,  8.34162710e-15,  1.00000000e+00,\n",
       "        -4.09654196e-15,  7.31811766e-15],\n",
       "       [-1.74968779e-15,  2.24551112e-15,  4.10242231e-16,\n",
       "         1.00000000e+00,  1.29191064e-15],\n",
       "       [-5.40783253e-15, -1.01207756e-14,  3.49784697e-16,\n",
       "         2.87298425e-15,  1.00000000e+00]])"
      ]
     },
     "execution_count": 56,
     "metadata": {},
     "output_type": "execute_result"
    }
   ],
   "source": [
    "# numpy.linalg tiene un conjunto estándar de descomposiciones matriciales y cosas\n",
    "# como inverso y determinante\n",
    "from numpy.linalg import inv, qr\n",
    "\n",
    "X = rng.standard_normal((5, 5))\n",
    "mat = X.T @ X\n",
    "inv(mat)\n",
    "mat @ inv(mat)"
   ]
  },
  {
   "cell_type": "code",
   "execution_count": 57,
   "id": "affecting-president",
   "metadata": {},
   "outputs": [
    {
     "data": {
      "text/plain": [
       "[<matplotlib.lines.Line2D at 0x7f2cd4cb9090>]"
      ]
     },
     "execution_count": 57,
     "metadata": {},
     "output_type": "execute_result"
    },
    {
     "data": {
      "image/png": "[encoded data removed]",
      "text/plain": [
       "<Figure size 640x480 with 1 Axes>"
      ]
     },
     "metadata": {},
     "output_type": "display_data"
    }
   ],
   "source": [
    "# ejemplo: pasos aleatorios\n",
    "import random\n",
    "\n",
    "position = 0\n",
    "walk = [position]\n",
    "nsteps = 1000\n",
    "for _ in range(nsteps):\n",
    "    step = 1 if random.randint(0, 1) else -1\n",
    "    position += step\n",
    "    walk.append(position)\n",
    "\n",
    "walk\n",
    "plt.plot(walk[:100])"
   ]
  },
  {
   "cell_type": "code",
   "execution_count": 58,
   "id": "faced-hopkins",
   "metadata": {},
   "outputs": [
    {
     "data": {
      "text/plain": [
       "np.int64(0)"
      ]
     },
     "execution_count": 58,
     "metadata": {},
     "output_type": "execute_result"
    }
   ],
   "source": [
    "# con numpy.random\n",
    "nsteps = 1000\n",
    "rng = np.random.default_rng(seed=12345)\n",
    "draws = rng.integers(0, 2, size=nsteps)\n",
    "steps = np.where(draws == 0, 1, -1)\n",
    "walk = steps.sum()\n",
    "walk.min()\n",
    "walk.max()\n",
    "(np.abs(walk) >= 10).argmax()"
   ]
  },
  {
   "cell_type": "code",
   "execution_count": 59,
   "id": "bored-rouge",
   "metadata": {},
   "outputs": [
    {
     "data": {
      "text/plain": [
       "array([[  1,   2,   3, ...,  22,  23,  22],\n",
       "       [  1,   0,  -1, ..., -50, -49, -48],\n",
       "       [  1,   2,   3, ...,  50,  49,  48],\n",
       "       ...,\n",
       "       [ -1,  -2,  -1, ..., -10,  -9, -10],\n",
       "       [ -1,  -2,  -3, ...,   8,   9,   8],\n",
       "       [ -1,   0,   1, ...,  -4,  -3,  -2]])"
      ]
     },
     "execution_count": 59,
     "metadata": {},
     "output_type": "execute_result"
    }
   ],
   "source": [
    "# calcular 5000\n",
    "nwalks = 5000\n",
    "nsteps = 1000\n",
    "draws = rng.integers(0, 2, size=(nwalks, nsteps))\n",
    "steps = np.where(draws > 0, 1, -1)\n",
    "walks = steps.cumsum(axis=1)\n",
    "walks"
   ]
  },
  {
   "cell_type": "code",
   "execution_count": 60,
   "id": "communist-battery",
   "metadata": {},
   "outputs": [
    {
     "data": {
      "text/plain": [
       "np.int64(-120)"
      ]
     },
     "execution_count": 60,
     "metadata": {},
     "output_type": "execute_result"
    }
   ],
   "source": [
    "walks.min()"
   ]
  },
  {
   "cell_type": "code",
   "execution_count": 61,
   "id": "governing-sacramento",
   "metadata": {},
   "outputs": [
    {
     "data": {
      "text/plain": [
       "np.int64(114)"
      ]
     },
     "execution_count": 61,
     "metadata": {},
     "output_type": "execute_result"
    }
   ],
   "source": [
    "walks.max()"
   ]
  },
  {
   "cell_type": "code",
   "execution_count": 62,
   "id": "physical-activation",
   "metadata": {},
   "outputs": [
    {
     "data": {
      "text/plain": [
       "np.int64(3395)"
      ]
     },
     "execution_count": 62,
     "metadata": {},
     "output_type": "execute_result"
    }
   ],
   "source": [
    "# calcular el timepo mínimo de cruce\n",
    "hits30 = (np.abs(walks) >= 30).any(axis=1)\n",
    "hits30.sum()"
   ]
  },
  {
   "cell_type": "code",
   "execution_count": 63,
   "id": "inappropriate-pocket",
   "metadata": {},
   "outputs": [
    {
     "data": {
      "text/plain": [
       "array([[False, False, False, ...,  True,  True,  True],\n",
       "       [False, False, False, ...,  True,  True,  True],\n",
       "       [False, False, False, ..., False, False, False],\n",
       "       ...,\n",
       "       [False, False, False, ...,  True,  True,  True],\n",
       "       [False, False, False, ..., False, False, False],\n",
       "       [False, False, False, ..., False, False, False]])"
      ]
     },
     "execution_count": 63,
     "metadata": {},
     "output_type": "execute_result"
    }
   ],
   "source": [
    "# usar una matriz booleana para seleccionar filas de walks que realmente cruzan\n",
    "# el nivel absoluto 30\n",
    "crossing_time = (np.abs(walks[hits30]) >= 30)\n",
    "crossing_time"
   ]
  },
  {
   "cell_type": "code",
   "execution_count": 64,
   "id": "vocational-tumor",
   "metadata": {},
   "outputs": [
    {
     "data": {
      "text/plain": [
       "np.float64(0.26289131075110456)"
      ]
     },
     "execution_count": 64,
     "metadata": {},
     "output_type": "execute_result"
    }
   ],
   "source": [
    "# calcular el tiempo mínimo de cruce promedio\n",
    "crossing_time.mean()"
   ]
  },
  {
   "cell_type": "code",
   "execution_count": 65,
   "id": "premier-former",
   "metadata": {},
   "outputs": [
    {
     "data": {
      "text/plain": [
       "array([[ -4.04973719, -72.20301454, -25.77413767, ...,  42.35575067,\n",
       "        -67.30300634, -41.96801803],\n",
       "       [ -4.38418762, -35.37572912,  27.86067612, ...,   1.10017609,\n",
       "         -0.52777227,  -8.29750679],\n",
       "       [ 35.22741721, -35.3831178 ,   9.81831178, ...,  -2.72558913,\n",
       "         -4.00785341,  -9.84970338],\n",
       "       ...,\n",
       "       [ 22.45520194, -12.52067344,  -2.43556491, ..., -19.43720862,\n",
       "        -20.66675401,  16.5086757 ],\n",
       "       [ -4.54478268,  25.40093023, -29.81380022, ...,  46.78530024,\n",
       "          3.52993084, -18.92648078],\n",
       "       [-10.79061221, -11.28233177,  -5.78813154, ...,  11.78367805,\n",
       "         -3.0529469 ,  18.25963448]])"
      ]
     },
     "execution_count": 65,
     "metadata": {},
     "output_type": "execute_result"
    }
   ],
   "source": [
    "# other example\n",
    "draws = 25 * rng.standard_normal((nwalks, nsteps))\n",
    "draws"
   ]
  }
 ],
 "metadata": {
  "kernelspec": {
   "display_name": "Python 3 (ipykernel)",
   "language": "python",
   "name": "python3"
  },
  "language_info": {
   "codemirror_mode": {
    "name": "ipython",
    "version": 3
   },
   "file_extension": ".py",
   "mimetype": "text/x-python",
   "name": "python",
   "nbconvert_exporter": "python",
   "pygments_lexer": "ipython3",
   "version": "3.13.5"
  }
 },
 "nbformat": 4,
 "nbformat_minor": 5
}
