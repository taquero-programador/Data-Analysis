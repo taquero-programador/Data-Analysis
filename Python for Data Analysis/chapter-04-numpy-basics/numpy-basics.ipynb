{
 "cells": [
  {
   "cell_type": "markdown",
   "id": "forced-memorial",
   "metadata": {},
   "source": [
    "## Chapter 4: NumPy basics"
   ]
  },
  {
   "cell_type": "code",
   "execution_count": null,
   "id": "meaningful-casino",
   "metadata": {},
   "outputs": [],
   "source": []
  }
 ],
 "metadata": {
  "kernelspec": {
   "display_name": "venv",
   "language": "python",
   "name": "venv"
  },
  "language_info": {
   "codemirror_mode": {
    "name": "ipython",
    "version": 3
   },
   "file_extension": ".py",
   "mimetype": "text/x-python",
   "name": "python",
   "nbconvert_exporter": "python",
   "pygments_lexer": "ipython3",
   "version": "3.9.2"
  }
 },
 "nbformat": 4,
 "nbformat_minor": 5
}
